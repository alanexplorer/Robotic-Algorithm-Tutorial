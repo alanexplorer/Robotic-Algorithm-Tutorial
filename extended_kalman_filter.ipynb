{
 "cells": [
  {
   "cell_type": "markdown",
   "metadata": {
    "colab_type": "text",
    "id": "view-in-github"
   },
   "source": [
    "<a href=\"https://colab.research.google.com/github/alanexplorer/Robotic-Algorithm-Tutorial/blob/master/particle_filter.ipynb\" target=\"_parent\"><img src=\"https://colab.research.google.com/assets/colab-badge.svg\" alt=\"Open In Colab\"/></a>"
   ]
  },
  {
   "cell_type": "markdown",
   "metadata": {},
   "source": [
    "# Extended Kalman Filter"
   ]
  },
  {
   "cell_type": "code",
   "execution_count": 0,
   "metadata": {
    "colab": {},
    "colab_type": "code",
    "id": "V0-SUyzvA7u3"
   },
   "outputs": [],
   "source": [
    "import random\n",
    "import numpy as np\n",
    "from math import pi, sqrt, cos, sin, tan, exp\n",
    "import matplotlib.pyplot as plt\n",
    "import matplotlib.patches as patches\n",
    "import matplotlib.pyplot as plt\n",
    "import matplotlib.patches as mpatches\n",
    "from matplotlib.patches import Rectangle, Ellipse"
   ]
  },
  {
   "cell_type": "code",
   "execution_count": 0,
   "metadata": {
    "colab": {},
    "colab_type": "code",
    "id": "9BilBzzSKrYa"
   },
   "outputs": [],
   "source": [
    "#CONST\n",
    "\n",
    "landmarks  = [[20.0, 20.0], [80.0, 80.0], [20.0, 80.0], [80.0, 20.0]]\n",
    "world_size = 100.0"
   ]
  },
  {
   "cell_type": "code",
   "execution_count": 0,
   "metadata": {
    "colab": {},
    "colab_type": "code",
    "id": "ZjSd1k5TJuNI"
   },
   "outputs": [],
   "source": [
    "class robot:\n",
    "  def __init__(self):\n",
    "    self.x = random.random() * world_size  # initialise with random\n",
    "    self.y = random.random() * world_size\n",
    "    self.theta = random.random() * 2.0 * pi\n",
    "\n",
    "    self.forward_noise = 0.0\n",
    "    self.turn_noise    = 0.0\n",
    "    self.sense_noise   = 0.0\n",
    "\n",
    "  def get(self):\n",
    "    return (self.x, self.y, self.theta)\n",
    "    \n",
    "  def set(self, new_x, new_y, new_theta):\n",
    "    if new_x < 0 or new_x >= world_size:\n",
    "        raise ValueError('X coordinate out of bound')\n",
    "    if new_y < 0 or new_y >= world_size:\n",
    "        raise ValueError('Y coordinate out of bound')\n",
    "    if new_theta < 0 or new_theta >= 2 * pi:\n",
    "        raise ValueError('theta must be in [0..2pi]')\n",
    "    self.x = float(new_x)\n",
    "    self.y = float(new_y)\n",
    "    self.theta = float(new_theta)\n",
    "    \n",
    "    \n",
    "  def set_noise(self, new_f_noise, new_t_noise, new_s_noise):\n",
    "    # makes it possible to change the noise parameters\n",
    "    # this is often useful in particle filters\n",
    "    self.forward_noise = float(new_f_noise)\n",
    "    self.turn_noise    = float(new_t_noise)\n",
    "    self.sense_noise   = float(new_s_noise)\n",
    "\n",
    "  def sense(self):\n",
    "      Z = []\n",
    "      for i in range(len(landmarks)):\n",
    "          dist = sqrt((self.x - landmarks[i][0]) ** 2 + (self.y - landmarks[i][1]) ** 2)\n",
    "          dist += random.gauss(0.0, self.sense_noise)\n",
    "          Z.append(dist)\n",
    "      return Z\n",
    "\n",
    "\n",
    "  def move(self, turn, forward):\n",
    "      if forward < 0:\n",
    "          raise ValueError('Robot cant move backwards')\n",
    "      \n",
    "      # turn, and add randomness to the turning command\n",
    "      theta = self.theta + float(turn) + random.gauss(0.0, self.turn_noise)\n",
    "      theta %= 2 * pi\n",
    "      \n",
    "      # move, and add randomness to the motion command\n",
    "      dist = float(forward) + random.gauss(0.0, self.forward_noise)\n",
    "      x = self.x + (cos(theta) * dist)\n",
    "      y = self.y + (sin(theta) * dist)\n",
    "      x %= world_size    # cyclic truncate\n",
    "      y %= world_size\n",
    "      \n",
    "      # set particle\n",
    "      res = robot()\n",
    "      res.set(x, y, theta)\n",
    "      res.set_noise(self.forward_noise, self.turn_noise, self.sense_noise)\n",
    "      return res\n",
    "\n",
    "  def Gaussian(self, mu, sigma, x):\n",
    "          # calculates the probability of x for 1-dim Gaussian with mean mu and var. sigma\n",
    "          return exp(- ((mu - x) ** 2) / (sigma ** 2) / 2.0) / sqrt(2.0 * pi * (sigma ** 2))\n",
    "      \n",
    "      \n",
    "  def measurement_prob(self, measurement):\n",
    "      # calculates how likely a measurement should be\n",
    "      prob = 1.0\n",
    "      for i in range(len(landmarks)):\n",
    "          dist = sqrt((self.x - landmarks[i][0]) ** 2 + (self.y - landmarks[i][1]) ** 2)\n",
    "          prob *= self.Gaussian(dist, self.sense_noise, measurement[i])\n",
    "      return prob"
   ]
  },
  {
   "cell_type": "code",
   "execution_count": 346,
   "metadata": {
    "colab": {
     "base_uri": "https://localhost:8080/",
     "height": 35
    },
    "colab_type": "code",
    "id": "8HHWparHKce4",
    "outputId": "6e334f34-0c01-41da-c257-9bee5fee3931"
   },
   "outputs": [
    {
     "name": "stdout",
     "output_type": "stream",
     "text": [
      "(79.34230642436533, 70.98340513322822, 4.398560281623536)\n"
     ]
    }
   ],
   "source": [
    "myrobot = robot()\n",
    "myrobot = myrobot.move(0.1, 5.0)\n",
    "Z = myrobot.sense()\n",
    "print(myrobot.get())"
   ]
  },
  {
   "cell_type": "code",
   "execution_count": 347,
   "metadata": {
    "colab": {
     "base_uri": "https://localhost:8080/",
     "height": 283
    },
    "colab_type": "code",
    "id": "1SHdb2EbMkam",
    "outputId": "b49b153d-e2b9-4229-dac6-d82eb639e2f3"
   },
   "outputs": [
    {
     "data": {
      "image/png": "[encoded data removed]",
      "text/plain": [
       "<Figure size 432x288 with 1 Axes>"
      ]
     },
     "metadata": {
      "tags": []
     },
     "output_type": "display_data"
    }
   ],
   "source": [
    "plt.figure()\n",
    "currentAxis = plt.gca()\n",
    "\n",
    "for i in range(len(landmarks)):\n",
    "  currentAxis.add_patch(Rectangle(landmarks[i], 5.0, 5.0, alpha=1, color=\"blue\"))\n",
    "\n",
    "currentAxis.add_patch(Ellipse((myrobot.get()[0], myrobot.get()[1]), 10.0, 5.0, myrobot.get()[2], alpha=1, color=\"red\"))\n",
    "\n",
    "\n",
    "plt.ylabel('axis[y]')\n",
    "plt.xlabel('axis[x]')\n",
    "\n",
    "plt.xlim((0, 100))   # set the xlim to left, right\n",
    "plt.ylim((0, 100))     # set the xlim to left, right\n",
    "\n",
    "\n",
    "plt.show()"
   ]
  },
  {
   "cell_type": "code",
   "execution_count": null,
   "metadata": {},
   "outputs": [],
   "source": [
    "mu1 = 10\n",
    "sigma1 = 0.5\n",
    "\n",
    "x1 = np.linspace(mu1 - 3*sigma1, mu1 + 3*sigma1, 100)\n",
    "plt.plot(x1, stats.norm.pdf(x1, mu1, sigma1), color=\"blue\", label=\"P(z|x)\")\n",
    "\n",
    "plt.legend()\n",
    "\n",
    "plt.show()"
   ]
  }
 ],
 "metadata": {
  "colab": {
   "authorship_tag": "ABX9TyOF7URNuUw1zS0nJalRpf8q",
   "include_colab_link": true,
   "name": "particle-filter.ipynb",
   "provenance": []
  },
  "kernelspec": {
   "display_name": "Python 3",
   "language": "python",
   "name": "python3"
  },
  "language_info": {
   "codemirror_mode": {
    "name": "ipython",
    "version": 3
   },
   "file_extension": ".py",
   "mimetype": "text/x-python",
   "name": "python",
   "nbconvert_exporter": "python",
   "pygments_lexer": "ipython3",
   "version": "3.5.2"
  }
 },
 "nbformat": 4,
 "nbformat_minor": 1
}
