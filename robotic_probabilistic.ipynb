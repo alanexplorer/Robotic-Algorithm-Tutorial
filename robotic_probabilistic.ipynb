{
  "nbformat": 4,
  "nbformat_minor": 0,
  "metadata": {
    "kernelspec": {
      "display_name": "Python 3",
      "language": "python",
      "name": "python3"
    },
    "language_info": {
      "codemirror_mode": {
        "name": "ipython",
        "version": 3
      },
      "file_extension": ".py",
      "mimetype": "text/x-python",
      "name": "python",
      "nbconvert_exporter": "python",
      "pygments_lexer": "ipython3",
      "version": "3.7.4"
    },
    "colab": {
      "name": "robotic_probabilistic.ipynb",
      "provenance": [],
      "include_colab_link": true
    }
  },
  "cells": [
    {
      "cell_type": "markdown",
      "metadata": {
        "id": "view-in-github",
        "colab_type": "text"
      },
      "source": [
        "<a href=\"https://colab.research.google.com/github/alanexplorer/Robotic-Algorithm-Tutorial/blob/master/robotic_probabilistic.ipynb\" target=\"_parent\"><img src=\"https://colab.research.google.com/assets/colab-badge.svg\" alt=\"Open In Colab\"/></a>"
      ]
    },
    {
      "cell_type": "code",
      "metadata": {
        "id": "yrzw7GCAyqVb",
        "colab_type": "code",
        "colab": {}
      },
      "source": [
        "from math import *\n",
        "from sympy import Symbol, symbols, Matrix, sin, cos\n",
        "import matplotlib.pyplot as plt\n",
        "import numpy as np\n",
        "import scipy.stats as stats"
      ],
      "execution_count": 0,
      "outputs": []
    },
    {
      "cell_type": "code",
      "metadata": {
        "id": "So6aa79g-I1v",
        "colab_type": "code",
        "colab": {}
      },
      "source": [
        "#set variables\n",
        "\n",
        "mu, sigma = symbols('\\mu, \\sigma')"
      ],
      "execution_count": 0,
      "outputs": []
    },
    {
      "cell_type": "markdown",
      "metadata": {
        "id": "o4jyCL_hEDOb",
        "colab_type": "text"
      },
      "source": [
        "# The Total Probability Rule\n",
        "\n",
        "the total probability rule (tpr) is\n",
        "\n",
        "$P(A) = P(A | B) P(B) + P(A | B^C) P(B^C)$"
      ]
    },
    {
      "cell_type": "markdown",
      "metadata": {
        "id": "C87v7PEk85xC",
        "colab_type": "text"
      },
      "source": [
        "\n",
        "# Probability Density Function\n",
        "\n",
        "The normal probability density function (pdf) is\n",
        "\n",
        "$f(x | \\mu, \\sigma) = \\frac{1}{\\sigma\\sqrt{2\\pi}} e^{- \\frac{(\\mu - x)^2}{2\\sigma^2}}$\n",
        "---\n",
        "\n"
      ]
    },
    {
      "cell_type": "code",
      "metadata": {
        "id": "F1u7Uv4eyv_P",
        "colab_type": "code",
        "colab": {}
      },
      "source": [
        " def gaussian(mu, sigma, x):\n",
        "          # calculates the probability of x for 1-dim Gaussian with mean mu and var. sigma\n",
        "          return exp(- ((mu - x) ** 2) / (sigma ** 2) / 2.0) / sqrt(2.0 * pi * (sigma ** 2))"
      ],
      "execution_count": 0,
      "outputs": []
    },
    {
      "cell_type": "markdown",
      "metadata": {
        "id": "XDi-DimBb9F4",
        "colab_type": "text"
      },
      "source": [
        "# New Mean and Variance\n",
        "\n",
        "$\\mu^{'} = \\frac{\\sigma^{2}_{2} \\dot \\mu_{1} + \\sigma^{2}_{1} \\dot \\mu_{2}}{\\sigma^{2}_{2} + \\sigma^{2}_{1}}$\n",
        "\n",
        "$\\sigma^{'} = \\frac{1}{\\frac{1}{\\sigma^{2}_{2}} + \\frac{1}{\\sigma^{2}_{1}}}$"
      ]
    },
    {
      "cell_type": "code",
      "metadata": {
        "id": "1SrD1fatPXJi",
        "colab_type": "code",
        "colab": {}
      },
      "source": [
        "def SumGaussian(m1, m2, s1, s2):\n",
        "  m3 = (s2**2*m1 + s1**2*m2)/(s2**2+ s1**2)\n",
        "  s3 = 1/((1/s2**2)+ (1/s1**2))\n",
        "  return m3, s3"
      ],
      "execution_count": 0,
      "outputs": []
    },
    {
      "cell_type": "code",
      "metadata": {
        "id": "65bf9MkBI4_4",
        "colab_type": "code",
        "outputId": "044b95d0-59f8-4322-f6e2-7f95b5c065fc",
        "colab": {
          "base_uri": "https://localhost:8080/",
          "height": 265
        }
      },
      "source": [
        "mu1 = 10\n",
        "sigma1 = 0.5\n",
        "\n",
        "x1 = np.linspace(mu1 - 3*sigma1, mu1 + 3*sigma1, 100)\n",
        "plt.plot(x1, stats.norm.pdf(x1, mu1, sigma1), color=\"blue\", label=\"P(z|x)\")\n",
        "\n",
        "mu2 = 8\n",
        "sigma2 = 0.3\n",
        "\n",
        "x2 = np.linspace(mu2 - 3*sigma2, mu2 + 3*sigma2, 100)\n",
        "plt.plot(x2, stats.norm.pdf(x2, mu2, sigma2), color=\"red\", label=\"P(x)\")\n",
        "\n",
        "mu3, sigma3 = SumGaussian(mu1, mu2, sigma1, sigma2)\n",
        "\n",
        "x3 = np.linspace(mu3 - 3*sigma3, mu3 + 3*sigma3, 100)\n",
        "plt.plot(x3, stats.norm.pdf(x3, mu3, sigma3), color=\"green\", label=\"P(x|z)\"\n",
        ")\n",
        "\n",
        "plt.legend()\n",
        "\n",
        "plt.show()\n"
      ],
      "execution_count": 0,
      "outputs": [
        {
          "output_type": "display_data",
          "data": {
            "image/png": "[encoded data removed]",
            "text/plain": [
              "<Figure size 432x288 with 1 Axes>"
            ]
          },
          "metadata": {
            "tags": []
          }
        }
      ]
    }
  ]
}