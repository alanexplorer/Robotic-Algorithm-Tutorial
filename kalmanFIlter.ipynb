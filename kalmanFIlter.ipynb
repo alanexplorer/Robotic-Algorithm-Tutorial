{
  "nbformat": 4,
  "nbformat_minor": 0,
  "metadata": {
    "colab": {
      "name": "kalmanFIlter.ipynb",
      "provenance": [],
      "authorship_tag": "ABX9TyP1pkF75guqxmnXe6NhkXJp",
      "include_colab_link": true
    },
    "kernelspec": {
      "name": "python3",
      "display_name": "Python 3"
    }
  },
  "cells": [
    {
      "cell_type": "markdown",
      "metadata": {
        "id": "view-in-github",
        "colab_type": "text"
      },
      "source": [
        "<a href=\"https://colab.research.google.com/github/alanexplorer/Robotic-Algorithm-Tutorial/blob/master/kalmanFIlter.ipynb\" target=\"_parent\"><img src=\"https://colab.research.google.com/assets/colab-badge.svg\" alt=\"Open In Colab\"/></a>"
      ]
    },
    {
      "cell_type": "markdown",
      "metadata": {
        "id": "WE-9GMjH7tQp",
        "colab_type": "text"
      },
      "source": [
        "# Kalman Filter\n",
        "\n",
        "## Introduction\n",
        "\n",
        "Kalman filtering is an algorithm that provides estimates of some unknown variables given the measurements observed over time. Kalman filters have been demonstrating its usefulness in various applications. Kalman filters have relatively simple form and require small computational power\n",
        "\n",
        "## Problem definition\n",
        "\n",
        "Kalman filters are used to estimate states based on linear dynamical systems in\n",
        "state space format. The Kalman filter represents beliefs by the moments parameterization: At time $t$, the belief is represented by the the mean $\\mu_t$ and the covariance $\\Sigma_t$. The process model defines the evolution of the state from time $t - 1$ to time $t$. The state transition probability $p(x_t | u_t, x_{t−1})$ must be a linear function in its arguments with added Gaussian noise. This is expressed by the following equation:\n",
        "\n",
        "$x_t = A_tx_{t−1} + B_tu_t + \\varepsilon_t$\n",
        "\n",
        "Here $x_t$ and $x_{t−1}$ are state vectors, and ut is the control vector at time t.\n",
        "In our notation, both of these vectors are vertical vectors. They are of the\n",
        "form\n",
        "\n",
        "$x_{t}^{n} = \\begin{pmatrix} \\\\ x_{t}^{1}\\\\ x_{t}^{2}\\\\ \\vdots \\\\ x_{t}^{n}\\\\ \\end{pmatrix}$ and $u_{t}^{m} = \\begin{pmatrix} \\\\ u_{t}^{1}\\\\ u_{t}^{2}\\\\ \\vdots \\\\ u_{t}^{m}\\\\ \\end{pmatrix}$\n",
        "\n",
        "where $A_t$ is the state transition matrix applied to the previous state vector $x_{k−1}$, $A_t$ is a square matrix of size $n \\times n$, where $n$ is\n",
        "the dimension of the state vector $x_t$. $B_t$ is the control-input matrix applied to the control vector $u_{k}$, $B_t$ have a size $n \\times m$, with $m$ being the dimension of the control vector $u_t$.  and $\\varepsilon_t$ is the process noise vector that is assumed to be zero-mean Gaussian with the covariance $R_t$, $\\varepsilon_t \\sim 𝒩(0,R)$.\n",
        "\n",
        "The measurement probability $p(z_t | x_t)$ must also be linear in its arguments, with added Gaussian noise. The process model is paired with the measurement model that describes the relationship between the state and the measurement at the current time step t as:\n",
        "\n",
        "$z_t = C_tx_t + \\delta_t$\n",
        "\n",
        "where $z_t$ is the measurement vector, $C_t$ is the measurement matrix, $C_t$ is a matrix of size $k \\times n$, where $k$ is the dimension of the measurement vector $z_t$. The $\\delta_t$ is the measurement noise vector that is assumed to be zero-mean Gaussian with the covariance $Q_t$ , $\\delta_t \\sim 𝒩(0,Q)$.\n",
        "\n",
        "The role of the Kalman filter is to provide estimate of $x_t$ at time $t$, given the initial estimate of $x_0$ , the series of measurement, $z_1,z_2,…,z_t$ , and the information of the system described by $A_t$ , $B_t$ , $C_t$ , $Q$, and $R$. Note that subscripts to these matrices are omitted here by assuming that they are invariant over time as in most applications. Although the covariance matrices are supposed to reflect the statistics of the noises, the true statistics of the noises is not known or not Gaussian in many practical applications. Therefore, Q and R are usually used as tuning parameters that the user can adjust to get desired performance.\n",
        "\n",
        "## Pseudocode\n",
        "\n",
        "\n",
        "$1: Algorithm Kalman_filter(μt−1, Σt−1, ut, zt):$\n",
        "\n",
        "$2:    \\bar{\\mu}_t = A_t \\mu_{t−1} + B_t u_t$\n",
        "\n",
        "$3:    \\bar{\\Sigma}_t = A_t \\Sigma_{t−1} A^T_t + R_t$\n",
        "\n",
        "$4:    K_t = \\bar{\\Sigma}_t C^T_t (C_t \\Sigma_t C^T_t + Q_t)^{−1}$\n",
        "\n",
        "$5:    \\mu_t = \\bar{\\mu}_t + K_t(z_t − C_t \\bar{\\mu}_t)$\n",
        "\n",
        "$6:    \\Sigma_t = (I − K_t C_t)\\bar{\\Sigma}_t$\n",
        "\n",
        "$7:    return (\\mu_t, \\Sigma_t)$\n",
        "\n",
        "\n",
        "## Summary\n",
        "\n",
        "### Prediction:\n",
        "\n",
        "| Description                | Representation in the pseudocodigo|\n",
        "|----------------------------|-------------------------------------------------------|\n",
        "| Predicted state estimate   | $\\bar{\\mu} _t = A_t \\mu_ {t−1}  + B_t u_t$            |\n",
        "| Predicted error covariance | $\\bar{\\Sigma}  _t = A_t \\Sigma_  {t−1}   A^T_t + R_t$ |\n",
        "\n",
        "### Update:\n",
        "\n",
        "| Description              | Representation in the pseudocodigo |\n",
        "|--------------------------|----------------------------------------------------------------|\n",
        "| Measurement residual     | $(z_t − C_t \\bar{\\mu} _t)$                                     |\n",
        "| Kalman gain              | $K_t = \\bar{\\Sigma} _t C^T_t (C_t \\Sigma_t C^T_t + Q_t)^{−1} $ |\n",
        "| Updated state estimate   | $\\mu_t = \\bar{\\mu} _t + K_t(z_t − C_t \\bar{\\mu} _t)$           |\n",
        "| Updated error covariance | $\\Sigma_t = (I − K_t C_t)\\bar{\\Sigma} _t$                      |"
      ]
    },
    {
      "cell_type": "markdown",
      "metadata": {
        "id": "060k6LUCc_eF",
        "colab_type": "text"
      },
      "source": [
        "## Kalman Filter for Sensor Fusion"
      ]
    },
    {
      "cell_type": "markdown",
      "metadata": {
        "id": "nPG3zWlic_eG",
        "colab_type": "text"
      },
      "source": [
        "## Idea Of ​​The Kalman Filter In A Single-Dimension\n",
        "\n",
        "Kalman filters are discrete systems that allows us to define a dependent variable by an independent variable, where by we will solve for the independent variable so that when we are given measurements (the dependent variable),we can infer an estimate     of the independent variable assuming that noise exists from our input measurement and noise also exists in how we’ve modeled the world with our math equations because of inevitably unaccounted for factors in the non-sterile world.Input variables become more valuable when modeled as a system of equations,ora  matrix, in order to make it possible to determine the relationships between those values. Every variables in every dimension will contain noise, and therefore the introduction of related inputs will allow weighted averaging to take place based on the predicted differential at the next step, the noise unaccounted for in the system,and the noise introduced by the sensor inputs."
      ]
    },
    {
      "cell_type": "code",
      "metadata": {
        "id": "v9deFMZZc_eG",
        "colab_type": "code",
        "colab": {}
      },
      "source": [
        "import numpy as np\n",
        "import pandas as pd\n",
        "import matplotlib.pyplot as plt\n",
        "import matplotlib.mlab as mlab\n",
        "import seaborn as sb\n",
        "from scipy import stats\n",
        "import time\n",
        "from numpy.linalg import inv\n",
        "import scipy.stats as scs"
      ],
      "execution_count": 0,
      "outputs": []
    },
    {
      "cell_type": "code",
      "metadata": {
        "colab_type": "code",
        "id": "m8_tIgN9fD7b",
        "colab": {}
      },
      "source": [
        "%matplotlib inline\n",
        "fw = 10 # figure width"
      ],
      "execution_count": 0,
      "outputs": []
    },
    {
      "cell_type": "markdown",
      "metadata": {
        "id": "VmH-ULpAc_eP",
        "colab_type": "text"
      },
      "source": [
        "#### Plot the Distributions in this range:"
      ]
    },
    {
      "cell_type": "code",
      "metadata": {
        "id": "UedLopL1c_eP",
        "colab_type": "code",
        "colab": {}
      },
      "source": [
        "x = np.linspace(-100,100,1000)"
      ],
      "execution_count": 0,
      "outputs": []
    },
    {
      "cell_type": "code",
      "metadata": {
        "id": "Ad31AnRuc_eS",
        "colab_type": "code",
        "colab": {}
      },
      "source": [
        "mean0 = 0.0   # e.g. meters or miles\n",
        "var0  = 20.0"
      ],
      "execution_count": 0,
      "outputs": []
    },
    {
      "cell_type": "code",
      "metadata": {
        "id": "dj2pPK33c_eV",
        "colab_type": "code",
        "outputId": "b32f9ca7-a11e-40ab-d7fa-273d9c482d39",
        "colab": {
          "base_uri": "https://localhost:8080/",
          "height": 338
        }
      },
      "source": [
        "plt.figure(figsize=(fw,5))\n",
        "plt.plot(x,scs.norm.pdf(x, mean0, var0), label='Normal Distribution')\n",
        "plt.ylim(0, 0.1);\n",
        "plt.legend(loc='best');\n",
        "plt.xlabel('Position');"
      ],
      "execution_count": 507,
      "outputs": [
        {
          "output_type": "display_data",
          "data": {
            "image/png": "[encoded data removed]",
            "text/plain": [
              "<Figure size 720x360 with 1 Axes>"
            ]
          },
          "metadata": {
            "tags": []
          }
        }
      ]
    },
    {
      "cell_type": "markdown",
      "metadata": {
        "id": "TfF4Rka2c_eZ",
        "colab_type": "text"
      },
      "source": [
        "## Now we have something, which estimates the moved distance"
      ]
    },
    {
      "cell_type": "markdown",
      "metadata": {
        "id": "PlXaHM8nc_ea",
        "colab_type": "text"
      },
      "source": [
        "#### The Mean is  meters, calculated from velocity*dt or step counter or wheel encoder ...\n",
        "\n",
        "#### VarMove is the Estimated or determined with static measurements"
      ]
    },
    {
      "cell_type": "code",
      "metadata": {
        "id": "hZ0iplHec_eb",
        "colab_type": "code",
        "colab": {}
      },
      "source": [
        "meanMove = 25.0\n",
        "varMove  = 10.0 "
      ],
      "execution_count": 0,
      "outputs": []
    },
    {
      "cell_type": "code",
      "metadata": {
        "id": "UoPSCK6tc_ee",
        "colab_type": "code",
        "outputId": "95f1dff3-ec0a-4375-dc52-d0a097144e1d",
        "colab": {
          "base_uri": "https://localhost:8080/",
          "height": 338
        }
      },
      "source": [
        "plt.figure(figsize=(fw,5))\n",
        "plt.plot(x,scs.norm.pdf(x, meanMove, varMove), label='Normal Distribution')\n",
        "plt.ylim(0, 0.1);\n",
        "plt.legend(loc='best');\n",
        "plt.xlabel('Distance moved');"
      ],
      "execution_count": 509,
      "outputs": [
        {
          "output_type": "display_data",
          "data": {
            "image/png": "[encoded data removed]",
            "text/plain": [
              "<Figure size 720x360 with 1 Axes>"
            ]
          },
          "metadata": {
            "tags": []
          }
        }
      ]
    },
    {
      "cell_type": "markdown",
      "metadata": {
        "id": "WX3uBW6Ec_eh",
        "colab_type": "text"
      },
      "source": [
        "Both Distributions have to be merged together\n",
        "$\\mu_\\text{new}=\\mu_\\text{0}+\\mu_\\text{move}$ is the new mean and $\\sigma^2_\\text{new}=\\sigma^2_\\text{0}+\\sigma^2_\\text{move}$ is the new variance.\n",
        "\n"
      ]
    },
    {
      "cell_type": "code",
      "metadata": {
        "id": "7WYW-Lbvc_ei",
        "colab_type": "code",
        "colab": {}
      },
      "source": [
        "def predict(var, mean, varMove, meanMove):\n",
        "    new_var = var + varMove\n",
        "    new_mean= mean+ meanMove\n",
        "    return new_var, new_mean"
      ],
      "execution_count": 0,
      "outputs": []
    },
    {
      "cell_type": "code",
      "metadata": {
        "id": "bQM4JSMNc_em",
        "colab_type": "code",
        "colab": {}
      },
      "source": [
        "new_var, new_mean = predict(var0, mean0, varMove, meanMove)"
      ],
      "execution_count": 0,
      "outputs": []
    },
    {
      "cell_type": "code",
      "metadata": {
        "id": "hn8KWrfSc_ep",
        "colab_type": "code",
        "outputId": "b717980a-b6a0-4e15-8b87-8ed1e32a09f9",
        "colab": {
          "base_uri": "https://localhost:8080/",
          "height": 336
        }
      },
      "source": [
        "plt.figure(figsize=(fw,5))\n",
        "plt.plot(x,scs.norm.pdf(x, mean0, var0), label='Beginning Normal Distribution')\n",
        "plt.plot(x,scs.norm.pdf(x, meanMove, varMove), label='Movement Normal Distribution')\n",
        "plt.plot(x,scs.norm.pdf(x, new_mean, new_var), label='Resulting Normal Distribution')\n",
        "plt.ylim(0, 0.1);\n",
        "plt.legend(loc='best');\n",
        "plt.title('Normal Distributions of 1st Kalman Filter Prediction Step');\n",
        "plt.savefig('Kalman-Filter-1D-Step.png', dpi=150)"
      ],
      "execution_count": 512,
      "outputs": [
        {
          "output_type": "display_data",
          "data": {
            "image/png": "[encoded data removed]",
            "text/plain": [
              "<Figure size 720x360 with 1 Axes>"
            ]
          },
          "metadata": {
            "tags": []
          }
        }
      ]
    },
    {
      "cell_type": "markdown",
      "metadata": {
        "id": "PZcR5_pxc_eu",
        "colab_type": "text"
      },
      "source": [
        "### What you see: The resulting distribution is flat > uncertain.\n",
        "\n",
        "The more often you run the predict step, the flatter the distribution get\n",
        "\n",
        "First Sensor Measurement (Position) is coming in...\n",
        "#### Sensor Defaults for Position Measurements\n",
        "(Estimated or determined with static measurements)"
      ]
    },
    {
      "cell_type": "code",
      "metadata": {
        "id": "w7id7_JYc_eu",
        "colab_type": "code",
        "colab": {}
      },
      "source": [
        "meanSensor = 25.0\n",
        "varSensor  = 12.0"
      ],
      "execution_count": 0,
      "outputs": []
    },
    {
      "cell_type": "code",
      "metadata": {
        "id": "NkR19YSZc_ex",
        "colab_type": "code",
        "outputId": "81d7effb-703b-4a2a-9ee6-33777dd38b52",
        "colab": {
          "base_uri": "https://localhost:8080/",
          "height": 324
        }
      },
      "source": [
        "plt.figure(figsize=(fw,5))\n",
        "plt.plot(x,scs.norm.pdf(x, meanSensor, varSensor))\n",
        "plt.ylim(0, 0.1);"
      ],
      "execution_count": 514,
      "outputs": [
        {
          "output_type": "display_data",
          "data": {
            "image/png": "[encoded data removed]",
            "text/plain": [
              "<Figure size 720x360 with 1 Axes>"
            ]
          },
          "metadata": {
            "tags": []
          }
        }
      ]
    },
    {
      "cell_type": "markdown",
      "metadata": {
        "id": "r2Z4woKzc_ez",
        "colab_type": "text"
      },
      "source": [
        "Now both Distributions have to be merged together\n",
        "$\\sigma^2_\\text{new}=\\cfrac{1}{\\cfrac{1}{\\sigma^2_\\text{old}}+\\cfrac{1}{\\sigma^2_\\text{Sensor}}}$ is the new variance and the new mean value is $\\mu_\\text{new}=\\cfrac{\\sigma^2_\\text{Sensor} \\cdot \\mu_\\text{old} + \\sigma^2_\\text{old} \\cdot \\mu_\\text{Sensor}}{\\sigma^2_\\text{old}+\\sigma^2_\\text{Sensor}}$"
      ]
    },
    {
      "cell_type": "code",
      "metadata": {
        "id": "wtbxW8iuc_ez",
        "colab_type": "code",
        "colab": {}
      },
      "source": [
        "def correct(var, mean, varSensor, meanSensor):\n",
        "    new_mean=(varSensor*mean + var*meanSensor) / (var+varSensor)\n",
        "    new_var = 1/(1/var +1/varSensor)\n",
        "    return new_var, new_mean"
      ],
      "execution_count": 0,
      "outputs": []
    },
    {
      "cell_type": "code",
      "metadata": {
        "id": "HT6JhDpXc_e2",
        "colab_type": "code",
        "colab": {}
      },
      "source": [
        "var, mean = correct(new_var, new_mean, varSensor, meanSensor)"
      ],
      "execution_count": 0,
      "outputs": []
    },
    {
      "cell_type": "code",
      "metadata": {
        "id": "p2g-t5DHc_e5",
        "colab_type": "code",
        "outputId": "6b941ae2-14da-4612-99fb-dcf0e0b540fd",
        "colab": {
          "base_uri": "https://localhost:8080/",
          "height": 336
        }
      },
      "source": [
        "plt.figure(figsize=(fw,5))\n",
        "plt.plot(x,scs.norm.pdf(x, new_mean, new_var), label='Beginning (after Predict)')\n",
        "plt.plot(x,scs.norm.pdf(x, meanSensor, varSensor), label='Position Sensor Normal Distribution')\n",
        "plt.plot(x,scs.norm.pdf(x, mean, var), label='New Position Normal Distribution')\n",
        "plt.ylim(0, 0.1);\n",
        "plt.legend(loc='best');\n",
        "plt.title('Normal Distributions of 1st Kalman Filter Update Step');"
      ],
      "execution_count": 517,
      "outputs": [
        {
          "output_type": "display_data",
          "data": {
            "image/png": "[encoded data removed]",
            "text/plain": [
              "<Figure size 720x360 with 1 Axes>"
            ]
          },
          "metadata": {
            "tags": []
          }
        }
      ]
    },
    {
      "cell_type": "markdown",
      "metadata": {
        "id": "KHAVvUnfc_e8",
        "colab_type": "text"
      },
      "source": [
        "###### This is called the Measurement or Correction step! The Filter get's more serious about the actual state."
      ]
    },
    {
      "cell_type": "markdown",
      "metadata": {
        "id": "Dgb_d4hYc_e8",
        "colab_type": "text"
      },
      "source": [
        "#### Let's put everything together: The 1D Kalman Filter\n",
        "\"Kalman-Filter: Predicting the Future since 1960\"\n",
        "\n",
        "Let's say, we have some measurements for position and for distance traveled. Both have to be fused with the 1D-Kalman Filter."
      ]
    },
    {
      "cell_type": "code",
      "metadata": {
        "id": "RitNVg4Gc_e9",
        "colab_type": "code",
        "colab": {}
      },
      "source": [
        "positions = (10, 20, 30, 40, 50)+np.random.randn(5)\n",
        "distances = (10, 10, 10, 10, 10)+np.random.randn(5)"
      ],
      "execution_count": 0,
      "outputs": []
    },
    {
      "cell_type": "code",
      "metadata": {
        "id": "28QSD9AFc_fA",
        "colab_type": "code",
        "outputId": "a50c4728-7e29-473f-f701-347a043b6abd",
        "colab": {
          "base_uri": "https://localhost:8080/",
          "height": 35
        }
      },
      "source": [
        "positions"
      ],
      "execution_count": 519,
      "outputs": [
        {
          "output_type": "execute_result",
          "data": {
            "text/plain": [
              "array([10.1845204 , 21.39731258, 29.69374551, 39.20237805, 49.59848613])"
            ]
          },
          "metadata": {
            "tags": []
          },
          "execution_count": 519
        }
      ]
    },
    {
      "cell_type": "code",
      "metadata": {
        "id": "G5Ha1hn5c_fC",
        "colab_type": "code",
        "outputId": "6b9c25ff-a8a7-435c-daf1-9d0086a494a9",
        "colab": {
          "base_uri": "https://localhost:8080/",
          "height": 35
        }
      },
      "source": [
        "distances"
      ],
      "execution_count": 520,
      "outputs": [
        {
          "output_type": "execute_result",
          "data": {
            "text/plain": [
              "array([11.26230721, 11.82079149,  8.9581322 ,  8.41033479, 10.53073647])"
            ]
          },
          "metadata": {
            "tags": []
          },
          "execution_count": 520
        }
      ]
    },
    {
      "cell_type": "code",
      "metadata": {
        "id": "o3Esp3N3c_fE",
        "colab_type": "code",
        "outputId": "fe76e82e-3a23-4002-9036-e5cc7b085e63",
        "colab": {
          "base_uri": "https://localhost:8080/",
          "height": 359
        }
      },
      "source": [
        "for m in range(len(positions)):\n",
        "    \n",
        "    # Predict\n",
        "    var, mean = predict(var, mean, varMove, distances[m])\n",
        "    #print('mean: %.2f\\tvar:%.2f' % (mean, var))\n",
        "    plt.plot(x,scs.norm.pdf(x, mean, var), label='%i. step (Prediction)' % (m+1))\n",
        "    \n",
        "    # Correct\n",
        "    var, mean = correct(var, mean, varSensor, positions[m])\n",
        "    print('After correction:  mean= %.2f\\tvar= %.2f' % (mean, var))\n",
        "    plt.plot(x,scs.norm.pdf(x, mean, var), label='%i. step (Correction)' % (m+1))\n",
        "    \n",
        "plt.ylim(0, 0.1);\n",
        "plt.xlim(-20, 120)\n",
        "plt.legend();"
      ],
      "execution_count": 521,
      "outputs": [
        {
          "output_type": "stream",
          "text": [
            "After correction:  mean= 20.42\tvar= 7.29\n",
            "After correction:  mean= 25.84\tvar= 7.08\n",
            "After correction:  mean= 31.80\tvar= 7.05\n",
            "After correction:  mean= 39.62\tvar= 7.04\n",
            "After correction:  mean= 49.83\tvar= 7.04\n"
          ],
          "name": "stdout"
        },
        {
          "output_type": "display_data",
          "data": {
            "image/png": "[encoded data removed]",
            "text/plain": [
              "<Figure size 432x288 with 1 Axes>"
            ]
          },
          "metadata": {
            "tags": []
          }
        }
      ]
    },
    {
      "cell_type": "markdown",
      "metadata": {
        "id": "eAun_5FGc_fG",
        "colab_type": "text"
      },
      "source": [
        "\n",
        "The sensors are represented as normal distributions with their parameters ($\\mu$ and $\\sigma^2$) and are calculated together with addition or convolution. The prediction decreases the certainty about the state, the correction increases the certainty.\n",
        "\n",
        "Prediction: Certainty $\\downarrow$\n",
        "Correction: Certainty $\\uparrow$"
      ]
    },
    {
      "cell_type": "markdown",
      "metadata": {
        "id": "0jkqbt8rc_fH",
        "colab_type": "text"
      },
      "source": [
        "## Kalman Filter - Multi-Dimensional Measurement"
      ]
    },
    {
      "cell_type": "markdown",
      "metadata": {
        "id": "as14BpLtc_fH",
        "colab_type": "text"
      },
      "source": [
        "![image.png](attachment:image.png)"
      ]
    },
    {
      "cell_type": "markdown",
      "metadata": {
        "id": "CsMNynZQc_fI",
        "colab_type": "text"
      },
      "source": [
        "#### Multidimensional Kalman filter\n",
        "\n",
        "\n",
        "Let's assume we drive our car  into a tunnel. The GPS signal is gone. Nevertheless, we might want to get notified that should  exit in the tunnel.The procedure is using the example of a vehicle with navigation device, which enters a tunnel. The last known position is before losing the GPS signal. Afterwards (with permanently installed Navis) only the speed information of the vehicle (wheel speeds & yaw rate) is available as normal distributed noisy measured variable. From this a velocity in x and y can be calculated. \n",
        "\n",
        "#### *How would we know now where we are right now? \n",
        "\n",
        "##### *It merges the vehicle sensors and calculates the position as well as possible.*\n",
        "\n",
        "\n",
        "\n",
        "Now lets think, when we were at the tunnel entrance last and drive at 50km / h, then the car can indeed calculated exactly where (x = position) you are 1 minute (t = time) later\n",
        "\n",
        "\n",
        "So far the perfect world. But the calculation takes over a microcontroller and this relies on sensors. Both the sensors have random errors, the transmission path has interference, and the resolution of CAN bus or analog-to-digital converters can cause many inaccuracies in the simple statement \"speed\". For example, a speed signal looks like this:\n",
        "\n",
        "Speed-time course of a measurement\n",
        "Speed-time course of a measurement\n",
        "\n",
        "On average, the measured speed is already correct, but there is some \"noise\". If one calculates a histogram of the determined speeds, one sees that the determined values ​​are approximately subject to a normal distribution.\n",
        "\n",
        "Histogram of measured velocity with normal distribution\n",
        "Histogram of measured velocity with normal distribution\n",
        "\n",
        "So there is one, and really only one, maximum value (unimodal) and a spread (variance). If this is the case, you can do the calculation very well with a trick nevertheless.\n",
        "\n"
      ]
    },
    {
      "cell_type": "markdown",
      "metadata": {
        "id": "lzUV_DGdc_fI",
        "colab_type": "text"
      },
      "source": [
        "\n",
        "### State Vector\n",
        "Constant Velocity Model for Ego Motion\n",
        "\n",
        "$$x_k= \\left[ \\matrix{ x \\\\ \\dot x \\\\ } \\right] = \\matrix{ \\text{Position X}  \\\\ \\text{Velocity in X} \\\\ }$$\n"
      ]
    },
    {
      "cell_type": "code",
      "metadata": {
        "id": "0ac7ncjvc_fJ",
        "colab_type": "code",
        "outputId": "aa086e61-f03f-4b9e-9619-224b95d0d26d",
        "colab": {
          "base_uri": "https://localhost:8080/",
          "height": 53
        }
      },
      "source": [
        "import numpy as np\n",
        "import matplotlib.pyplot as plt\n",
        "from scipy.stats import norm\n",
        "\n",
        "x = np.matrix([[0.0, 0.0]]).T\n",
        "print(x, x.shape)\n",
        "#plt.scatter(float(x[0]),float(x[1]), s=100)\n",
        "#plt.title('Initial Location')"
      ],
      "execution_count": 522,
      "outputs": [
        {
          "output_type": "stream",
          "text": [
            "[[0.]\n",
            " [0.]] (2, 1)\n"
          ],
          "name": "stdout"
        }
      ]
    },
    {
      "cell_type": "code",
      "metadata": {
        "id": "Wg1ZWw99c_fL",
        "colab_type": "code",
        "outputId": "2a37f2ca-3edc-41e1-e1ca-5ad39f58931c",
        "colab": {
          "base_uri": "https://localhost:8080/",
          "height": 53
        }
      },
      "source": [
        "P = np.diag([100, 9])\n",
        "print(P, P.shape)\n"
      ],
      "execution_count": 523,
      "outputs": [
        {
          "output_type": "stream",
          "text": [
            "[[100   0]\n",
            " [  0   9]] (2, 2)\n"
          ],
          "name": "stdout"
        }
      ]
    },
    {
      "cell_type": "markdown",
      "metadata": {
        "id": "l6Pey2rfc_fP",
        "colab_type": "text"
      },
      "source": [
        "## Using Matplotlib to understand the P matrix More:\n",
        "\n",
        "The value of the vectors on the x,y and $\\dot x$, $\\dot y$ is very high. Thus the intial position and velocity is very uncertain\n",
        "\n",
        "While plotting the matrix, make sure we label:\n",
        "1. Setting the locations of the yticks\n",
        "2. Setting the locations and labels of the yticks\n",
        "3. Setting the locations of the yticks\n",
        "4. Setting the locations and labels of the yticks\n",
        "\n",
        "\n",
        "## Covariance matrix $P$\n",
        "\n",
        "An uncertainty must be given for the initial state  x0 . In the 1D case, the σ0 , now a matrix, defines an initial uncertainty for all states.\n",
        "\n",
        "This matrix is ​​most likely to be changed during the filter passes. It is changed in both the Predict and Correct steps. If one is quite sure about the states at the beginning, one can use low values ​​here, if one does not know exactly how the values ​​of the state vector are, the covariance matrix should be Pinitialized with very large values ​​(1 million or so) to allow the filter to converge relatively quickly (find the right values ​​based on the measurements).\n",
        "\n",
        "\n"
      ]
    },
    {
      "cell_type": "code",
      "metadata": {
        "id": "oQLfHgTWc_fP",
        "colab_type": "code",
        "outputId": "a9045438-9cf9-44c1-81ce-9b17a21669cd",
        "colab": {
          "base_uri": "https://localhost:8080/",
          "height": 392
        }
      },
      "source": [
        "fig = plt.figure(figsize=(6, 6))\n",
        "im = plt.imshow(P, interpolation=\"none\", cmap=plt.get_cmap('binary'))\n",
        "plt.title('Initial Covariance Matrix $P$')\n",
        "ylocs, ylabels = plt.yticks()\n",
        "plt.yticks(np.arange(7))\n",
        "# \n",
        "plt.yticks(np.arange(6),('$x$', '$y$', '$\\dot x$', '$\\dot y$'), fontsize=22)\n",
        "xlocs, xlabels = plt.xticks()\n",
        "# \n",
        "plt.xticks(np.arange(7))\n",
        "\n",
        "plt.xticks(np.arange(6),('$x$', '$y$', '$\\dot x$', '$\\dot y$'), fontsize=22)\n",
        "\n",
        "plt.xlim([-0.5,3.5])\n",
        "plt.ylim([3.5, -0.5])\n",
        "\n",
        "from mpl_toolkits.axes_grid1 import make_axes_locatable\n",
        "divider = make_axes_locatable(plt.gca())\n",
        "cax = divider.append_axes(\"right\", \"5%\", pad=\"3%\")\n",
        "plt.colorbar(im, cax=cax);\n"
      ],
      "execution_count": 524,
      "outputs": [
        {
          "output_type": "display_data",
          "data": {
            "image/png": "[encoded data removed]",
            "text/plain": [
              "<Figure size 432x432 with 2 Axes>"
            ]
          },
          "metadata": {
            "tags": []
          }
        }
      ]
    },
    {
      "cell_type": "markdown",
      "metadata": {
        "id": "VjpXdLiYc_fS",
        "colab_type": "text"
      },
      "source": [
        "#### Dynamics matrix A\n",
        "The core of the filter, however, is the following definition, which we would set up yourself only with great understanding of the physical context. This is not easy for many real problems. For our simple example (in-plane motion), the physics behind it comes from the smooth motion. The position results in xt + 1= x˙t⋅ t + xt and in velocity x˙t + 1= x˙t . For the state vector shown above, the dynamics in matrix notation is as follows:\n",
        "\n",
        "\n",
        "This states \"where\" the state vector moves from one calculation step to the next within dt . This dynamic model is also called a \"constant velocity\" model because it assumes that the velocity remains constant during a filter's calculation step.\n",
        "\n",
        "\n",
        "As an example, only the first line is written out, which calculates the position after a calculation step with the duration dt .\n",
        "\n",
        "## *xt + 1= xt+ dt ⋅ x˙t*\n",
        "This simply reflects physical relationships for the uniform motion. A higher form would be the Constant Acceleration model, which would be a 6D filter and still includes the accelerations in the state vector. In principle, other dynamics can be specified here (eg a  holonomic vehicle )."
      ]
    },
    {
      "cell_type": "markdown",
      "metadata": {
        "id": "-4R7wydSc_fS",
        "colab_type": "text"
      },
      "source": [
        "#### Initial conditions / initialization\n",
        "System state x\n",
        "At the beginning you have to initialize with an initial state. In the 1 Dimensional case, μ0 , now in the multidimensional, was a vector.\n",
        "\n",
        "If nothing is known, you can simply enter 0 here. If some boundary conditions are already known, they can be communicated to the filter. The choice of the following covariance matrix P controls how fast the filter converges to the correct (measured) values."
      ]
    },
    {
      "cell_type": "markdown",
      "metadata": {
        "id": "XB01SqC-c_fS",
        "colab_type": "text"
      },
      "source": [
        " ### Time Step between Filter Steps $dt$"
      ]
    },
    {
      "cell_type": "code",
      "metadata": {
        "id": "fJPUyfMMc_fT",
        "colab_type": "code",
        "colab": {}
      },
      "source": [
        "dt = 0.1"
      ],
      "execution_count": 0,
      "outputs": []
    },
    {
      "cell_type": "markdown",
      "metadata": {
        "id": "E9QqJWf-c_fV",
        "colab_type": "text"
      },
      "source": [
        "### Measurement Matrix $H$\n",
        "\n",
        "\n",
        "The filter must also be told what is measured and how it relates to the state vector. In the example of the vehicle, what enters a tunnel, only the speed, not the position! The values ​​can be measured directly with the factor 1 (ie the velocity is measured directly in the correct unit), which is why in only 1.0 is set to the appropriate position.H"
      ]
    },
    {
      "cell_type": "code",
      "metadata": {
        "id": "-_iNblThc_fV",
        "colab_type": "code",
        "outputId": "7469cf59-f5ec-44fe-f351-5fbb5bb6b924",
        "colab": {
          "base_uri": "https://localhost:8080/",
          "height": 125
        }
      },
      "source": [
        "A = np.matrix([[1, dt],[0,1]])\n",
        "print(A, A.shape)\n",
        "\n",
        "\n",
        "\n",
        "B = np.matrix([[0.5*dt],[dt]])\n",
        "print(B, B.shape)\n",
        "\n",
        "\n",
        "H = np.matrix([[1.0, 0.0],\n",
        "              [0.0,  1.0]])\n",
        "print(H, H.shape)"
      ],
      "execution_count": 526,
      "outputs": [
        {
          "output_type": "stream",
          "text": [
            "[[1.  0.1]\n",
            " [0.  1. ]] (2, 2)\n",
            "[[0.05]\n",
            " [0.1 ]] (2, 1)\n",
            "[[1. 0.]\n",
            " [0. 1.]] (2, 2)\n"
          ],
          "name": "stdout"
        }
      ]
    },
    {
      "cell_type": "markdown",
      "metadata": {
        "id": "5r8XwsR6c_fZ",
        "colab_type": "text"
      },
      "source": [
        "### Measurement Noise Covariance $R$\n",
        "\n",
        "Measurement noise covariance matrix R\n",
        "As in the one-dimensional case the variance , a measurement uncertainty must also be stated here.σ0\n",
        "\n",
        "\n",
        "This measurement uncertainty indicates how much one trusts the measured values ​​of the sensors. Since we measure only $\\dot x$ and  $\\dot y$ , this is a 2 × 2 matrix. If the sensor is very accurate, small values ​​should be used here. If the sensor is relatively inaccurate, large values ​​should be used here for  $\\dot x$, $\\dot y$"
      ]
    },
    {
      "cell_type": "code",
      "metadata": {
        "id": "G6qaxQEuc_fa",
        "colab_type": "code",
        "outputId": "3f1bbab4-cf37-4fc1-89d1-9ff6a026aa81",
        "colab": {
          "base_uri": "https://localhost:8080/",
          "height": 53
        }
      },
      "source": [
        "ra = 10.0**2\n",
        "\n",
        "R = np.matrix([[ra, 0.0],\n",
        "              [0.0, ra]])\n",
        "print(R, R.shape)"
      ],
      "execution_count": 527,
      "outputs": [
        {
          "output_type": "stream",
          "text": [
            "[[100.   0.]\n",
            " [  0. 100.]] (2, 2)\n"
          ],
          "name": "stdout"
        }
      ]
    },
    {
      "cell_type": "markdown",
      "metadata": {
        "id": "v6m43msrc_fc",
        "colab_type": "text"
      },
      "source": [
        "#### Plot between -10 and 10 with .001 steps."
      ]
    },
    {
      "cell_type": "code",
      "metadata": {
        "id": "G6l978LFc_fc",
        "colab_type": "code",
        "outputId": "f28ca4e2-b898-46a6-c974-2542cea7c631",
        "colab": {
          "base_uri": "https://localhost:8080/",
          "height": 297
        }
      },
      "source": [
        "xpdf = np.arange(-10, 10, 0.001)\n",
        "plt.subplot(121)\n",
        "plt.plot(xpdf, norm.pdf(xpdf,0,R[0,0]))\n",
        "plt.title('$\\dot x$')\n",
        "\n",
        "plt.subplot(122)\n",
        "plt.plot(xpdf, norm.pdf(xpdf,0,R[1,1]))\n",
        "plt.title('$\\dot y$')\n",
        "plt.tight_layout()"
      ],
      "execution_count": 528,
      "outputs": [
        {
          "output_type": "display_data",
          "data": {
            "image/png": "[encoded data removed]",
            "text/plain": [
              "<Figure size 432x288 with 2 Axes>"
            ]
          },
          "metadata": {
            "tags": []
          }
        }
      ]
    },
    {
      "cell_type": "code",
      "metadata": {
        "id": "eLWR2NNcc_fe",
        "colab_type": "code",
        "outputId": "8fd83840-8520-4218-df92-6674e2953669",
        "colab": {
          "base_uri": "https://localhost:8080/",
          "height": 35
        }
      },
      "source": [
        "sv = 8.8\n",
        "\n",
        "#G = np.matrix([[0.5*dt**2],\n",
        "#              [0.5*dt**2],\n",
        "#               [dt],\n",
        "#               [dt]])\n",
        "\n",
        "#Q = G*G.T*sv**2\n",
        "Q = np.matrix([[1, 0],[0, 1]])\n",
        "print(Q.shape)\n"
      ],
      "execution_count": 529,
      "outputs": [
        {
          "output_type": "stream",
          "text": [
            "(2, 2)\n"
          ],
          "name": "stdout"
        }
      ]
    },
    {
      "cell_type": "code",
      "metadata": {
        "id": "oZlvt97Mc_fh",
        "colab_type": "code",
        "outputId": "309ef9aa-9e54-495d-fbb4-cae56b5e63a1",
        "colab": {
          "base_uri": "https://localhost:8080/",
          "height": 53
        }
      },
      "source": [
        "Q "
      ],
      "execution_count": 530,
      "outputs": [
        {
          "output_type": "execute_result",
          "data": {
            "text/plain": [
              "matrix([[1, 0],\n",
              "        [0, 1]])"
            ]
          },
          "metadata": {
            "tags": []
          },
          "execution_count": 530
        }
      ]
    },
    {
      "cell_type": "markdown",
      "metadata": {
        "id": "77WlrcFEc_fj",
        "colab_type": "text"
      },
      "source": [
        "## Unit matrix $I$\n",
        "Last but not least a unit matrix is ​​necessary."
      ]
    },
    {
      "cell_type": "code",
      "metadata": {
        "id": "VQbH_GhDc_fj",
        "colab_type": "code",
        "outputId": "47cc72d6-8ba7-40f7-cc64-f23ea4c3a614",
        "colab": {
          "base_uri": "https://localhost:8080/",
          "height": 53
        }
      },
      "source": [
        "I = np.eye(2)\n",
        "print(I, I.shape)"
      ],
      "execution_count": 531,
      "outputs": [
        {
          "output_type": "stream",
          "text": [
            "[[1. 0.]\n",
            " [0. 1.]] (2, 2)\n"
          ],
          "name": "stdout"
        }
      ]
    },
    {
      "cell_type": "markdown",
      "metadata": {
        "id": "2hw9j08Pc_fm",
        "colab_type": "text"
      },
      "source": [
        "## Measurements"
      ]
    },
    {
      "cell_type": "markdown",
      "metadata": {
        "id": "YnWwOnSLc_fm",
        "colab_type": "text"
      },
      "source": [
        ""
      ]
    },
    {
      "cell_type": "code",
      "metadata": {
        "id": "aqeXlfnvc_fm",
        "colab_type": "code",
        "outputId": "0d374f36-96cd-4a90-c6ab-044e38d26be4",
        "colab": {
          "base_uri": "https://localhost:8080/",
          "height": 408
        }
      },
      "source": [
        "m = 200 # Measurements\n",
        "vx= 20 # in X\n",
        "vy= 10 # in Y\n",
        "acc = 5\n",
        "u_u  =  np.array(acc+np.random.randn(m))\n",
        "mx = np.array(vx+2*np.random.randn(m))\n",
        "my = np.array(vy+2*np.random.randn(m))\n",
        "u = np.vstack((u_u))\n",
        "print(u.shape, \"u\")\n",
        "\n",
        "measurements = np.vstack((mx))\n",
        "\n",
        "print(measurements.shape)\n",
        "\n",
        "print('Standard Deviation of Acceleration Measurements=%.2f' % np.std(mx))\n",
        "print('You assumed %.2f in R.' % R[0,0])\n",
        "\n",
        "\n",
        "fig = plt.figure(figsize=(16,5))\n",
        "\n",
        "plt.step(range(m),mx, label='$\\dot x$')\n",
        "#plt.step(range(m),my, label='$\\dot y$')\n",
        "plt.step(range(m),u_u, label='$u$')\n",
        "plt.ylabel(r'Velocity $m/s$')\n",
        "plt.title('Measurements')\n",
        "plt.legend(loc='best',prop={'size':18})\n",
        "plt.show()\n",
        "\n"
      ],
      "execution_count": 532,
      "outputs": [
        {
          "output_type": "stream",
          "text": [
            "(200, 1) u\n",
            "(200, 1)\n",
            "Standard Deviation of Acceleration Measurements=2.00\n",
            "You assumed 100.00 in R.\n"
          ],
          "name": "stdout"
        },
        {
          "output_type": "display_data",
          "data": {
            "image/png": "[encoded data removed]",
            "text/plain": [
              "<Figure size 1152x360 with 1 Axes>"
            ]
          },
          "metadata": {
            "tags": []
          }
        }
      ]
    },
    {
      "cell_type": "code",
      "metadata": {
        "id": "Uy7Mco_wc_fp",
        "colab_type": "code",
        "outputId": "6cf3162b-a1b6-4dcb-8aa9-a6787ba8cd91",
        "colab": {
          "base_uri": "https://localhost:8080/",
          "height": 55
        }
      },
      "source": [
        "aer = []\n",
        "for i in range(len(measurements)):\n",
        "    i+=1\n",
        "    aer.append(i)\n",
        "print (aer)"
      ],
      "execution_count": 533,
      "outputs": [
        {
          "output_type": "stream",
          "text": [
            "[1, 2, 3, 4, 5, 6, 7, 8, 9, 10, 11, 12, 13, 14, 15, 16, 17, 18, 19, 20, 21, 22, 23, 24, 25, 26, 27, 28, 29, 30, 31, 32, 33, 34, 35, 36, 37, 38, 39, 40, 41, 42, 43, 44, 45, 46, 47, 48, 49, 50, 51, 52, 53, 54, 55, 56, 57, 58, 59, 60, 61, 62, 63, 64, 65, 66, 67, 68, 69, 70, 71, 72, 73, 74, 75, 76, 77, 78, 79, 80, 81, 82, 83, 84, 85, 86, 87, 88, 89, 90, 91, 92, 93, 94, 95, 96, 97, 98, 99, 100, 101, 102, 103, 104, 105, 106, 107, 108, 109, 110, 111, 112, 113, 114, 115, 116, 117, 118, 119, 120, 121, 122, 123, 124, 125, 126, 127, 128, 129, 130, 131, 132, 133, 134, 135, 136, 137, 138, 139, 140, 141, 142, 143, 144, 145, 146, 147, 148, 149, 150, 151, 152, 153, 154, 155, 156, 157, 158, 159, 160, 161, 162, 163, 164, 165, 166, 167, 168, 169, 170, 171, 172, 173, 174, 175, 176, 177, 178, 179, 180, 181, 182, 183, 184, 185, 186, 187, 188, 189, 190, 191, 192, 193, 194, 195, 196, 197, 198, 199, 200]\n"
          ],
          "name": "stdout"
        }
      ]
    },
    {
      "cell_type": "markdown",
      "metadata": {
        "id": "k7ryfq17c_fr",
        "colab_type": "text"
      },
      "source": [
        "# Preallocation for Plotting"
      ]
    },
    {
      "cell_type": "code",
      "metadata": {
        "id": "V4vm13l8c_fs",
        "colab_type": "code",
        "colab": {}
      },
      "source": [
        "xt = []\n",
        "#yt = []\n",
        "dxt= []\n",
        "#dyt= []\n",
        "Zx = []\n",
        "#Zy = []\n",
        "Px = []\n",
        "#Py = []\n",
        "Pdx= []\n",
        "#Pdy= []\n",
        "Rdx= []\n",
        "#Rdy= []\n",
        "Kx = []\n",
        "#Ky = []\n",
        "Kdx= []\n",
        "#Kdy= []\n",
        "\n",
        "def savestates(x, Z, P, R, K):\n",
        "    xt.append(float(x[0]))\n",
        "    #yt.append(float(x[1]))\n",
        "    dxt.append(float(x[1]))\n",
        "    #dyt.append(float(x[3]))\n",
        "    Zx.append(float(Z[0]))\n",
        "    #Zy.append(float(Z[1]))\n",
        "    Px.append(float(P[0,0]))\n",
        "    #Py.append(float(P[1,1]))\n",
        "    Pdx.append(float(P[1,1]))\n",
        "    #Pdy.append(float(P[3,3]))\n",
        "    Rdx.append(float(R[0,0]))\n",
        "    #Rdy.append(float(R[1,1]))\n",
        "    Kx.append(float(K[0,0]))\n",
        "    #Ky.append(float(K[1,0]))\n",
        "    Kdx.append(float(K[1,0]))\n",
        "    #Kdy.append(float(K[3,0]))  "
      ],
      "execution_count": 0,
      "outputs": []
    },
    {
      "cell_type": "markdown",
      "metadata": {
        "id": "Nagg3-R_c_fu",
        "colab_type": "text"
      },
      "source": [
        "## Kalman Filter Algorithm"
      ]
    },
    {
      "cell_type": "markdown",
      "metadata": {
        "id": "XZINhLujc_fv",
        "colab_type": "text"
      },
      "source": [
        "## Filtering step Prediction / Predict\n",
        "This part of the Kalman filter now dares to predict the state of the system in the future. In addition, under certain conditions (observability) a state can be calculated with it which can not be measured! That's amazing, but in our case exactly what we need. We can not measure the position of the vehicle because the GPS of the navigation device has no reception in a tunnel. By initializing the state vector with a position and measuring the velocity, however, the dynamics still be used to make an optimal prediction about the position.A\n",
        "\n",
        "#### *xt+1=A⋅xt*\n",
        "\n",
        "The covariance must also be recalculated. Uncertainty about the state of the system increases in the Predict step, as we have seen in the 1D case. In the multidimensional case, the measurement uncertainty Q is additively added, so the uncertainty P is getting bigger and bigger.PQP\n",
        "\n",
        "#### *P=A⋅P⋅A‘+Q*\n",
        "\n",
        "That's it. We have in the future ( ) expected. The Kalman filter has made a statement about the expected system state in the future.dt\n",
        "\n",
        "Goes by now exactly time and the filter is in measuring / correcting and checking whether the prediction of the system state fits well with the new measurements. If so, the covariance chosen to be smaller by the filter (it is safer), if not, larger (something is wrong, the filter becomes more uncertain).dtP\n",
        "Filter step Measure / Correct\n",
        "The following mathematical calculations are not something that one must necessarily be able to derive. Rudolf E. Kalman thought about that in a few quiet minutes and it looks crazy, but works.\n",
        "\n",
        "From the sensors come current measured values , with which an innovation  the state vector  with the measuring matrix  calculated.\n",
        "\n",
        "#### *w=Z−(H⋅x)*\n",
        "Then it is looked at with which variance (which in the multi-dimensional case is called covariance matrix) can be further calculated. For this, the uncertainty and the measurement matrix and the measurement uncertainty required.PHR\n",
        "S=(H⋅P⋅H′+R)\n",
        "This determines the so-called Kalman gain. It states whether the readings or system dynamics should be more familiar.\n",
        "\n",
        "#### *K= P⋅ H'S*\n",
        "The Kalman Gain will decrease if the readings match the predicted system state. If the measured values ​​say otherwise, the elements of matrix K become larger.\n",
        "\n",
        "This information is now used to update the system state.\n",
        "\n",
        "#### *x = x + ( K⋅ w )*\n",
        "And also determined a new covariance for the upcoming Predict step.\n",
        "\n",
        "#### *P= ( I- ( K⋅ H) ) ⋅ P*\n"
      ]
    },
    {
      "cell_type": "code",
      "metadata": {
        "id": "U_tmjT-7c_fv",
        "colab_type": "code",
        "outputId": "79db435a-c1b7-4e84-98f8-435ea267dc16",
        "colab": {
          "base_uri": "https://localhost:8080/",
          "height": 35
        }
      },
      "source": [
        "measurements[1]"
      ],
      "execution_count": 535,
      "outputs": [
        {
          "output_type": "execute_result",
          "data": {
            "text/plain": [
              "array([19.15807378])"
            ]
          },
          "metadata": {
            "tags": []
          },
          "execution_count": 535
        }
      ]
    },
    {
      "cell_type": "code",
      "metadata": {
        "id": "-K_HJ-wYc_fy",
        "colab_type": "code",
        "colab": {}
      },
      "source": [
        "def kalman_filter(x,P):\n",
        "    for n in range(len(measurements)): \n",
        "        x = A*x + B*u[n]      \n",
        "        P = A*P*A.T        \n",
        "        S = H*P*H.T + R\n",
        "        K = (P*H.T) * np.linalg.pinv(S)       \n",
        "        Z = measurements[n]\n",
        "        y = Z - (H*x)                            \n",
        "        x = x + (K*y)        \n",
        "        P = (I - (K*H))*P        \n",
        "        savestates(x, Z, P, R, K)\n",
        "        print(\"x:\", x)\n",
        "        print(\"P:\", P)\n",
        "        print(\"K:\", K)\n",
        "        print(\"Z:\", Z)\n"
      ],
      "execution_count": 0,
      "outputs": []
    },
    {
      "cell_type": "markdown",
      "metadata": {
        "id": "PC2T3nKWc_f0",
        "colab_type": "text"
      },
      "source": [
        "#### The Usual Step :\n",
        "1.  ##### Time Update (Prediction)\n",
        "2.  ##### Project the state ahead\n",
        "3.  ##### Project the error covariance ahead\n",
        "4.  ##### Measurement Update (Correction)\n",
        "5.  ##### Compute the Kalman Gain\n",
        "6.  ##### Update the estimate via z\n",
        "7.  ##### Update the error covariance\n",
        "8.  ##### Save states for Plotting\n"
      ]
    },
    {
      "cell_type": "code",
      "metadata": {
        "scrolled": true,
        "id": "qBGN40src_f1",
        "colab_type": "code",
        "outputId": "546aca5a-93f0-458f-d15e-ba1f5655311b",
        "colab": {
          "base_uri": "https://localhost:8080/",
          "height": 1000
        }
      },
      "source": [
        "kalman_filter(x,P)"
      ],
      "execution_count": 537,
      "outputs": [
        {
          "output_type": "stream",
          "text": [
            "x: [[10.23279035]\n",
            " [ 2.12574486]]\n",
            "P: [[50.02063368  0.41267367]\n",
            " [ 0.41267367  8.25347334]]\n",
            "K: [[0.50020634 0.00412674]\n",
            " [0.00412674 0.08253473]]\n",
            "Z: [20.08469743]\n",
            "x: [[13.68445883]\n",
            " [ 4.05057824]]\n",
            "P: [[33.40948835  0.76155018]\n",
            " [ 0.76155018  7.61550178]]\n",
            "K: [[0.33409488 0.0076155 ]\n",
            " [0.0076155  0.07615502]]\n",
            "Z: [19.15807378]\n",
            "x: [[16.16736665]\n",
            " [ 5.68922484]]\n",
            "P: [[25.15888584  1.05923892]\n",
            " [ 1.05923892  7.06159278]]\n",
            "K: [[0.25158886 0.01059239]\n",
            " [0.01059239 0.07061593]]\n",
            "Z: [21.06383541]\n",
            "x: [[17.52488267]\n",
            " [ 6.96973531]]\n",
            "P: [[20.26296567  1.31482834]\n",
            " [ 1.31482834  6.57414171]]\n",
            "K: [[0.20262966 0.01314828]\n",
            " [0.01314828 0.06574142]]\n",
            "Z: [18.99320616]\n",
            "x: [[18.3143482 ]\n",
            " [ 7.84954755]]\n",
            "P: [[17.05042925  1.53505032]\n",
            " [ 1.53505032  6.14020126]]\n",
            "K: [[0.17050429 0.0153505 ]\n",
            " [0.0153505  0.06140201]]\n",
            "Z: [17.16720954]\n",
            "x: [[19.42124088]\n",
            " [ 8.92021089]]\n",
            "P: [[14.80322004  1.72501917]\n",
            " [ 1.72501917  5.75006389]]\n",
            "K: [[0.1480322  0.01725019]\n",
            " [0.01725019 0.05750064]]\n",
            "Z: [18.66474736]\n",
            "x: [[20.39523436]\n",
            " [ 9.74842895]]\n",
            "P: [[13.16105049  1.88871567]\n",
            " [ 1.88871567  5.3963305 ]]\n",
            "K: [[0.1316105  0.01888716]\n",
            " [0.01888716 0.0539633 ]]\n",
            "Z: [18.38557074]\n",
            "x: [[21.59625019]\n",
            " [10.51768336]]\n",
            "P: [[11.92283603  2.02931229]\n",
            " [ 2.02931229  5.07328072]]\n",
            "K: [[0.11922836 0.02029312]\n",
            " [0.02029312 0.05073281]]\n",
            "Z: [20.53451967]\n",
            "x: [[22.57384996]\n",
            " [11.19873513]]\n",
            "P: [[10.96722834  2.14939631]\n",
            " [ 2.14939631  4.77643625]]\n",
            "K: [[0.10967228 0.02149396]\n",
            " [0.02149396 0.04776436]]\n",
            "Z: [18.84159994]\n",
            "x: [[23.89690624]\n",
            " [12.02435693]]\n",
            "P: [[10.21647187  2.25112556]\n",
            " [ 2.25112556  4.50225113]]\n",
            "K: [[0.10216472 0.02251126]\n",
            " [0.02251126 0.04502251]]\n",
            "Z: [21.60203266]\n",
            "x: [[24.90385092]\n",
            " [12.65692884]]\n",
            "P: [[9.61831941 2.33633832]\n",
            " [2.33633832 4.24788786]]\n",
            "K: [[0.09618319 0.02336338]\n",
            " [0.02336338 0.04247888]]\n",
            "Z: [19.12564153]\n",
            "x: [[25.7702264 ]\n",
            " [13.02245885]]\n",
            "P: [[9.13628666 2.40663161]\n",
            " [2.40663161 4.01105268]]\n",
            "K: [[0.09136287 0.02406632]\n",
            " [0.02406632 0.04011053]]\n",
            "Z: [18.7022321]\n",
            "x: [[26.56605282]\n",
            " [13.48595697]]\n",
            "P: [[8.74407832 2.4634172 ]\n",
            " [2.4634172  3.78987262]]\n",
            "K: [[0.08744078 0.02463417]\n",
            " [0.02463417 0.03789873]]\n",
            "Z: [17.25628778]\n",
            "x: [[28.13575855]\n",
            " [14.25690802]]\n",
            "P: [[8.42223992 2.50796178]\n",
            " [2.50796178 3.58280255]]\n",
            "K: [[0.0842224  0.02507962]\n",
            " [0.02507962 0.03582803]]\n",
            "Z: [24.77403087]\n",
            "x: [[29.08896366]\n",
            " [14.62357973]]\n",
            "P: [[8.15606175 2.54141566]\n",
            " [2.54141566 3.38855422]]\n",
            "K: [[0.08156062 0.02541416]\n",
            " [0.02541416 0.03388554]]\n",
            "Z: [19.65674018]\n",
            "x: [[29.6081977 ]\n",
            " [14.64222123]]\n",
            "P: [[7.93421957 2.56483329]\n",
            " [2.56483329 3.20604161]]\n",
            "K: [[0.0793422  0.02564833]\n",
            " [0.02564833 0.03206042]]\n",
            "Z: [16.22676259]\n",
            "x: [[30.63692521]\n",
            " [15.06289043]]\n",
            "P: [[7.74786519 2.57918781]\n",
            " [2.57918781 3.0343386 ]]\n",
            "K: [[0.07747865 0.02579188]\n",
            " [0.02579188 0.03034339]]\n",
            "Z: [20.47273658]\n",
            "x: [[31.89259212]\n",
            " [15.57640705]]\n",
            "P: [[7.59000118 2.58538142]\n",
            " [2.58538142 2.87264603]]\n",
            "K: [[0.07590001 0.02585381]\n",
            " [0.02585381 0.02872646]]\n",
            "Z: [23.00778422]\n",
            "x: [[32.86132822]\n",
            " [15.83188925]]\n",
            "P: [[7.45504005 2.58425268]\n",
            " [2.58425268 2.72026598]]\n",
            "K: [[0.0745504  0.02584253]\n",
            " [0.02584253 0.02720266]]\n",
            "Z: [21.04635018]\n",
            "x: [[34.02421632]\n",
            " [16.25551411]]\n",
            "P: [[7.3384865  2.57658173]\n",
            " [2.57658173 2.57658173]]\n",
            "K: [[0.07338486 0.02576582]\n",
            " [0.02576582 0.02576582]]\n",
            "Z: [22.8930906]\n",
            "x: [[34.77201321]\n",
            " [16.33514482]]\n",
            "P: [[7.23670341 2.56309416]\n",
            " [2.56309416 2.44104205]]\n",
            "K: [[0.07236703 0.02563094]\n",
            " [0.02563094 0.02441042]]\n",
            "Z: [19.75534561]\n",
            "x: [[35.64796835]\n",
            " [16.62790079]]\n",
            "P: [[7.14673634 2.54446386]\n",
            " [2.54446386 2.31314897]]\n",
            "K: [[0.07146736 0.02544464]\n",
            " [0.02544464 0.02313149]]\n",
            "Z: [20.49460523]\n",
            "x: [[36.32543644]\n",
            " [16.67632269]]\n",
            "P: [[7.06617946 2.52131547]\n",
            " [2.52131547 2.19244823]]\n",
            "K: [[0.07066179 0.02521315]\n",
            " [0.02521315 0.02192448]]\n",
            "Z: [19.54061281]\n",
            "x: [[37.24787624]\n",
            " [16.97826706]]\n",
            "P: [[6.99307159 2.49422633]\n",
            " [2.49422633 2.07852194]]\n",
            "K: [[0.06993072 0.02494226]\n",
            " [0.02494226 0.02078522]]\n",
            "Z: [21.6185977]\n",
            "x: [[37.69588444]\n",
            " [16.8261593 ]]\n",
            "P: [[6.9258144  2.46372844]\n",
            " [2.46372844 1.97098275]]\n",
            "K: [[0.06925814 0.02463728]\n",
            " [0.02463728 0.01970983]]\n",
            "Z: [18.25957676]\n",
            "x: [[38.19442121]\n",
            " [16.83097894]]\n",
            "P: [[6.86310714 2.43031033]\n",
            " [2.43031033 1.86946949]]\n",
            "K: [[0.06863107 0.0243031 ]\n",
            " [0.0243031  0.01869469]]\n",
            "Z: [18.3516844]\n",
            "x: [[39.04327923]\n",
            " [17.0593389 ]]\n",
            "P: [[6.80389413 2.39441893]\n",
            " [2.39441893 1.77364366]]\n",
            "K: [[0.06803894 0.02394419]\n",
            " [0.02394419 0.01773644]]\n",
            "Z: [22.01478723]\n",
            "x: [[39.68381808]\n",
            " [17.16743359]]\n",
            "P: [[6.74732206 2.35646157]\n",
            " [2.35646157 1.68318683]]\n",
            "K: [[0.06747322 0.02356462]\n",
            " [0.02356462 0.01683187]]\n",
            "Z: [20.21738001]\n",
            "x: [[40.06301804]\n",
            " [17.11451299]]\n",
            "P: [[6.69270487 2.31680795]\n",
            " [2.31680795 1.59779859]]\n",
            "K: [[0.06692705 0.02316808]\n",
            " [0.02316808 0.01597799]]\n",
            "Z: [17.89353717]\n",
            "x: [[40.7925979 ]\n",
            " [17.22010306]]\n",
            "P: [[6.63949492 2.27579231]\n",
            " [2.27579231 1.51719488]]\n",
            "K: [[0.06639495 0.02275792]\n",
            " [0.02275792 0.01517195]]\n",
            "Z: [22.00325338]\n",
            "x: [[41.31834724]\n",
            " [17.24550291]]\n",
            "P: [[6.58725901 2.23371549]\n",
            " [2.23371549 1.44110677]]\n",
            "K: [[0.06587259 0.02233715]\n",
            " [0.02233715 0.01441107]]\n",
            "Z: [20.02661552]\n",
            "x: [[41.71544426]\n",
            " [17.21775714]]\n",
            "P: [[6.53565843 2.19084713]\n",
            " [2.19084713 1.36927945]]\n",
            "K: [[0.06535658 0.02190847]\n",
            " [0.02190847 0.01369279]]\n",
            "Z: [18.83895303]\n",
            "x: [[42.12663461]\n",
            " [17.09805963]]\n",
            "P: [[6.48443232 2.14742779]\n",
            " [2.14742779 1.30147139]]\n",
            "K: [[0.06484432 0.02147428]\n",
            " [0.02147428 0.01301471]]\n",
            "Z: [19.86814381]\n",
            "x: [[42.27942266]\n",
            " [17.0233826 ]]\n",
            "P: [[6.43338375 2.10367111]\n",
            " [2.10367111 1.2374536 ]]\n",
            "K: [[0.06433384 0.02103671]\n",
            " [0.02103671 0.01237454]]\n",
            "Z: [16.24356786]\n",
            "x: [[42.83985792]\n",
            " [17.1243425 ]]\n",
            "P: [[6.38236811 2.05976591]\n",
            " [2.05976591 1.17700909]]\n",
            "K: [[0.06382368 0.02059766]\n",
            " [0.02059766 0.01177009]]\n",
            "Z: [21.02268107]\n",
            "x: [[43.28036808]\n",
            " [17.0922578 ]]\n",
            "P: [[6.33128338 2.01587815]\n",
            " [2.01587815 1.11993231]]\n",
            "K: [[0.06331283 0.02015878]\n",
            " [0.02015878 0.01119932]]\n",
            "Z: [20.39605865]\n",
            "x: [[43.66414176]\n",
            " [17.09115777]]\n",
            "P: [[6.28006193 1.97215296]\n",
            " [1.97215296 1.06602863]]\n",
            "K: [[0.06280062 0.01972153]\n",
            " [0.01972153 0.01066029]]\n",
            "Z: [19.64164959]\n",
            "x: [[43.94183497]\n",
            " [17.0186074 ]]\n",
            "P: [[6.22866381 1.92871644]\n",
            " [1.92871644 1.01511392]]\n",
            "K: [[0.06228664 0.01928716]\n",
            " [0.01928716 0.01015114]]\n",
            "Z: [18.75506221]\n",
            "x: [[44.47033131]\n",
            " [17.06420223]]\n",
            "P: [[6.17707102 1.88567745]\n",
            " [1.88567745 0.96701408]]\n",
            "K: [[0.06177071 0.01885677]\n",
            " [0.01885677 0.00967014]]\n",
            "Z: [21.84777254]\n",
            "x: [[45.21652722]\n",
            " [17.28140202]]\n",
            "P: [[6.12528284 1.84312922]\n",
            " [1.84312922 0.92156461]]\n",
            "K: [[0.06125283 0.01843129]\n",
            " [0.01843129 0.00921565]]\n",
            "Z: [24.1810537]\n",
            "x: [[45.44247665]\n",
            " [17.22965279]]\n",
            "P: [[6.07331189 1.80115098]\n",
            " [1.80115098 0.87861023]]\n",
            "K: [[0.06073312 0.01801151]\n",
            " [0.01801151 0.0087861 ]]\n",
            "Z: [18.44790769]\n",
            "x: [[45.55405832]\n",
            " [17.09878991]]\n",
            "P: [[6.02118094 1.75980931]\n",
            " [1.75980931 0.83800443]]\n",
            "K: [[0.06021181 0.01759809]\n",
            " [0.01759809 0.00838004]]\n",
            "Z: [17.36460948]\n",
            "x: [[45.89741125]\n",
            " [17.03394385]]\n",
            "P: [[5.96892025 1.71915952]\n",
            " [1.71915952 0.79960908]]\n",
            "K: [[0.0596892  0.0171916 ]\n",
            " [0.0171916  0.00799609]]\n",
            "Z: [20.54570229]\n",
            "x: [[46.31850329]\n",
            " [17.08205544]]\n",
            "P: [[5.91656537 1.67924688]\n",
            " [1.67924688 0.76329404]]\n",
            "K: [[0.05916565 0.01679247]\n",
            " [0.01679247 0.00763294]]\n",
            "Z: [21.16686614]\n",
            "x: [[46.75394599]\n",
            " [17.25321706]]\n",
            "P: [[5.86415541 1.64010772]\n",
            " [1.64010772 0.72893676]]\n",
            "K: [[0.05864155 0.01640108]\n",
            " [0.01640108 0.00728937]]\n",
            "Z: [20.64954213]\n",
            "x: [[47.28287119]\n",
            " [17.4893183 ]]\n",
            "P: [[5.81173163 1.60177046]\n",
            " [1.60177046 0.69642194]]\n",
            "K: [[0.05811732 0.0160177 ]\n",
            " [0.0160177  0.00696422]]\n",
            "Z: [21.63505879]\n",
            "x: [[47.57526127]\n",
            " [17.44713066]]\n",
            "P: [[5.75933623 1.56425655]\n",
            " [1.56425655 0.66564109]]\n",
            "K: [[0.05759336 0.01564257]\n",
            " [0.01564257 0.00665641]]\n",
            "Z: [19.89713071]\n",
            "x: [[48.16433879]\n",
            " [17.75420558]]\n",
            "P: [[5.70701152 1.52758133]\n",
            " [1.52758133 0.63649222]]\n",
            "K: [[0.05707012 0.01527581]\n",
            " [0.01527581 0.00636492]]\n",
            "Z: [22.19598131]\n",
            "x: [[48.33395692]\n",
            " [17.81752543]]\n",
            "P: [[5.65479915 1.49175476]\n",
            " [1.49175476 0.60887949]]\n",
            "K: [[0.05654799 0.01491755]\n",
            " [0.01491755 0.00608879]]\n",
            "Z: [17.14784059]\n",
            "x: [[48.57685524]\n",
            " [17.82078967]]\n",
            "P: [[5.60273964 1.45678213]\n",
            " [1.45678213 0.58271285]]\n",
            "K: [[0.0560274  0.01456782]\n",
            " [0.01456782 0.00582713]]\n",
            "Z: [18.65385099]\n",
            "x: [[48.83597489]\n",
            " [17.8756473 ]]\n",
            "P: [[5.55087189 1.42266469]\n",
            " [1.42266469 0.55790772]]\n",
            "K: [[0.05550872 0.01422665]\n",
            " [0.01422665 0.00557908]]\n",
            "Z: [18.53091057]\n",
            "x: [[49.01828736]\n",
            " [18.00101792]]\n",
            "P: [[5.49923293 1.38940018]\n",
            " [1.38940018 0.53438469]]\n",
            "K: [[0.05499233 0.013894  ]\n",
            " [0.013894   0.00534385]]\n",
            "Z: [16.64395367]\n",
            "x: [[49.27930402]\n",
            " [18.09139   ]]\n",
            "P: [[5.44785771 1.35698334]\n",
            " [1.35698334 0.51206919]]\n",
            "K: [[0.05447858 0.01356983]\n",
            " [0.01356983 0.00512069]]\n",
            "Z: [17.99776405]\n",
            "x: [[49.40326345]\n",
            " [17.9233895 ]]\n",
            "P: [[5.39677896 1.32540635]\n",
            " [1.32540635 0.49089124]]\n",
            "K: [[0.05396779 0.01325406]\n",
            " [0.01325406 0.00490891]]\n",
            "Z: [17.58638278]\n",
            "x: [[49.46688601]\n",
            " [17.86059144]]\n",
            "P: [[5.3460271  1.2946592 ]\n",
            " [1.2946592  0.47078517]]\n",
            "K: [[0.05346027 0.01294659]\n",
            " [0.01294659 0.00470785]]\n",
            "Z: [15.83924892]\n",
            "x: [[50.00667484]\n",
            " [17.88647727]]\n",
            "P: [[5.29563022 1.26473009]\n",
            " [1.26473009 0.45168932]]\n",
            "K: [[0.0529563  0.0126473 ]\n",
            " [0.0126473  0.00451689]]\n",
            "Z: [23.29806826]\n",
            "x: [[50.31421509]\n",
            " [17.95068699]]\n",
            "P: [[5.24561411 1.23560568]\n",
            " [1.23560568 0.43354585]]\n",
            "K: [[0.05245614 0.01235606]\n",
            " [0.01235606 0.00433546]]\n",
            "Z: [19.15425385]\n",
            "x: [[50.88776278]\n",
            " [18.05261252]]\n",
            "P: [[5.19600226 1.20727138]\n",
            " [1.20727138 0.41630048]]\n",
            "K: [[0.05196002 0.01207271]\n",
            " [0.01207271 0.004163  ]]\n",
            "Z: [23.50067815]\n",
            "x: [[51.36894159]\n",
            " [18.27656478]]\n",
            "P: [[5.14681596 1.17971163]\n",
            " [1.17971163 0.39990225]]\n",
            "K: [[0.05146816 0.01179712]\n",
            " [0.01179712 0.00399902]]\n",
            "Z: [20.97474243]\n",
            "x: [[51.73713238]\n",
            " [18.42684176]]\n",
            "P: [[5.09807435 1.15291003]\n",
            " [1.15291003 0.38430334]]\n",
            "K: [[0.05098074 0.0115291 ]\n",
            " [0.0115291  0.00384303]]\n",
            "Z: [19.4032186]\n",
            "x: [[52.03067245]\n",
            " [18.48005496]]\n",
            "P: [[5.04979452 1.1268496 ]\n",
            " [1.1268496  0.36945889]]\n",
            "K: [[0.05049795 0.0112685 ]\n",
            " [0.0112685  0.00369459]]\n",
            "Z: [18.71514387]\n",
            "x: [[52.50123026]\n",
            " [18.70219638]]\n",
            "P: [[5.00199158 1.1015129 ]\n",
            " [1.1015129  0.35532674]]\n",
            "K: [[0.05001992 0.01101513]\n",
            " [0.01101513 0.00355327]]\n",
            "Z: [20.44653518]\n",
            "x: [[52.74636088]\n",
            " [18.66742919]]\n",
            "P: [[4.95467883 1.07688217]\n",
            " [1.07688217 0.34186736]]\n",
            "K: [[0.04954679 0.01076882]\n",
            " [0.01076882 0.00341867]]\n",
            "Z: [18.30175326]\n",
            "x: [[53.29261115]\n",
            " [18.98673926]]\n",
            "P: [[4.9078678  1.05293946]\n",
            " [1.05293946 0.32904358]]\n",
            "K: [[0.04907868 0.01052939]\n",
            " [0.01052939 0.00329044]]\n",
            "Z: [20.85927129]\n",
            "x: [[53.64890783]\n",
            " [19.23036569]]\n",
            "P: [[4.86156836 1.02966672]\n",
            " [1.02966672 0.31682053]]\n",
            "K: [[0.04861568 0.01029667]\n",
            " [0.01029667 0.00316821]]\n",
            "Z: [17.62630074]\n",
            "x: [[54.15990344]\n",
            " [19.31517331]]\n",
            "P: [[4.81578889 1.00704593]\n",
            " [1.00704593 0.30516543]]\n",
            "K: [[0.04815789 0.01007046]\n",
            " [0.01007046 0.00305165]]\n",
            "Z: [21.65774105]\n",
            "x: [[54.45729628]\n",
            " [19.35502842]]\n",
            "P: [[4.77053629 0.98505912]\n",
            " [0.98505912 0.2940475 ]]\n",
            "K: [[0.04770536 0.00985059]\n",
            " [0.00985059 0.00294047]]\n",
            "Z: [17.98242596]\n",
            "x: [[55.00581518]\n",
            " [19.51925537]]\n",
            "P: [[4.72581616 0.96368847]\n",
            " [0.96368847 0.28343779]]\n",
            "K: [[0.04725816 0.00963688]\n",
            " [0.00963688 0.00283438]]\n",
            "Z: [21.6720475]\n",
            "x: [[55.6016959 ]\n",
            " [19.68135174]]\n",
            "P: [[4.68163287 0.94291636]\n",
            " [0.94291636 0.27330909]]\n",
            "K: [[0.04681633 0.00942916]\n",
            " [0.00942916 0.00273309]]\n",
            "Z: [22.57227261]\n",
            "x: [[55.97348927]\n",
            " [20.02177058]]\n",
            "P: [[4.63798963 0.92272541]\n",
            " [0.92272541 0.26363583]]\n",
            "K: [[0.0463799  0.00922725]\n",
            " [0.00922725 0.00263636]]\n",
            "Z: [16.40105889]\n",
            "x: [[56.50471017]\n",
            " [20.20580712]]\n",
            "P: [[4.59488863 0.90309852]\n",
            " [0.90309852 0.25439395]]\n",
            "K: [[0.04594889 0.00903099]\n",
            " [0.00903099 0.00254394]]\n",
            "Z: [20.52035078]\n",
            "x: [[57.01892623]\n",
            " [20.46446057]]\n",
            "P: [[4.55233106 0.8840189 ]\n",
            " [0.8840189  0.24556081]]\n",
            "K: [[0.04552331 0.00884019]\n",
            " [0.00884019 0.00245561]]\n",
            "Z: [19.31471451]\n",
            "x: [[57.51854746]\n",
            " [20.51372938]]\n",
            "P: [[4.51031727 0.86547011]\n",
            " [0.86547011 0.2371151 ]]\n",
            "K: [[0.04510317 0.0086547 ]\n",
            " [0.0086547  0.00237115]]\n",
            "Z: [20.73787963]\n",
            "x: [[57.87311672]\n",
            " [20.68531027]]\n",
            "P: [[4.46884676 0.84743606]\n",
            " [0.84743606 0.22903677]]\n",
            "K: [[0.04468847 0.00847436]\n",
            " [0.00847436 0.00229037]]\n",
            "Z: [16.58723484]\n",
            "x: [[58.43193837]\n",
            " [20.91024452]]\n",
            "P: [[4.42791832 0.82990103]\n",
            " [0.82990103 0.22130694]]\n",
            "K: [[0.04427918 0.00829901]\n",
            " [0.00829901 0.00221307]]\n",
            "Z: [20.01896663]\n",
            "x: [[59.0242801 ]\n",
            " [21.15684928]]\n",
            "P: [[4.38753008 0.81284968]\n",
            " [0.81284968 0.21390781]]\n",
            "K: [[0.0438753  0.0081285 ]\n",
            " [0.0081285  0.00213908]]\n",
            "Z: [20.28385307]\n",
            "x: [[59.6440655 ]\n",
            " [21.29566517]]\n",
            "P: [[4.34767955 0.79626708]\n",
            " [0.79626708 0.20682262]]\n",
            "K: [[0.0434768  0.00796267]\n",
            " [0.00796267 0.00206823]]\n",
            "Z: [21.71612505]\n",
            "x: [[60.28422996]\n",
            " [21.58868344]]\n",
            "P: [[4.30836368 0.78013869]\n",
            " [0.78013869 0.20003556]]\n",
            "K: [[0.04308364 0.00780139]\n",
            " [0.00780139 0.00200036]]\n",
            "Z: [20.56688476]\n",
            "x: [[61.07788824]\n",
            " [21.85677727]]\n",
            "P: [[4.26957896 0.76445037]\n",
            " [0.76445037 0.19353174]]\n",
            "K: [[0.04269579 0.0076445 ]\n",
            " [0.0076445  0.00193532]]\n",
            "Z: [23.86244729]\n",
            "x: [[61.63389497]\n",
            " [21.94951556]]\n",
            "P: [[4.23132142 0.74918838]\n",
            " [0.74918838 0.18729709]]\n",
            "K: [[0.04231321 0.00749188]\n",
            " [0.00749188 0.00187297]]\n",
            "Z: [20.34413637]\n",
            "x: [[62.2468411 ]\n",
            " [22.11203638]]\n",
            "P: [[4.19358669 0.73433938]\n",
            " [0.73433938 0.18131837]]\n",
            "K: [[0.04193587 0.00734339]\n",
            " [0.00734339 0.00181318]]\n",
            "Z: [20.86569742]\n",
            "x: [[62.81528237]\n",
            " [22.31799712]]\n",
            "P: [[4.15637007 0.71989044]\n",
            " [0.71989044 0.17558303]]\n",
            "K: [[0.0415637  0.0071989 ]\n",
            " [0.0071989  0.00175583]]\n",
            "Z: [19.30131403]\n",
            "x: [[63.34130431]\n",
            " [22.40337254]]\n",
            "P: [[4.11966652 0.70582899]\n",
            " [0.70582899 0.17007928]]\n",
            "K: [[0.04119667 0.00705829]\n",
            " [0.00705829 0.00170079]]\n",
            "Z: [19.38744192]\n",
            "x: [[64.0707164 ]\n",
            " [22.67560452]]\n",
            "P: [[4.08347075 0.6921429 ]\n",
            " [0.6921429  0.16479593]]\n",
            "K: [[0.04083471 0.00692143]\n",
            " [0.00692143 0.00164796]]\n",
            "Z: [21.96683588]\n",
            "x: [[64.53479347]\n",
            " [22.81052773]]\n",
            "P: [[4.04777723 0.67882036]\n",
            " [0.67882036 0.15972244]]\n",
            "K: [[0.04047777 0.0067882 ]\n",
            " [0.0067882  0.00159722]]\n",
            "Z: [17.1040011]\n",
            "x: [[65.2549021 ]\n",
            " [22.91994195]]\n",
            "P: [[4.01258021 0.66584998]\n",
            " [0.66584998 0.15484883]]\n",
            "K: [[0.0401258  0.0066585 ]\n",
            " [0.0066585  0.00154849]]\n",
            "Z: [23.12331155]\n",
            "x: [[65.69534957]\n",
            " [22.906615  ]]\n",
            "P: [[3.97787377 0.65322072]\n",
            " [0.65322072 0.15016568]]\n",
            "K: [[0.03977874 0.00653221]\n",
            " [0.00653221 0.00150166]]\n",
            "Z: [18.00758197]\n",
            "x: [[66.24542625]\n",
            " [23.08941621]]\n",
            "P: [[3.94365183 0.64092189]\n",
            " [0.64092189 0.14566407]]\n",
            "K: [[0.03943652 0.00640922]\n",
            " [0.00640922 0.00145664]]\n",
            "Z: [18.45552543]\n",
            "x: [[67.17783036]\n",
            " [23.50946241]]\n",
            "P: [[3.90990819 0.62894316]\n",
            " [0.62894316 0.14133554]]\n",
            "K: [[0.03909908 0.00628943]\n",
            " [0.00628943 0.00141336]]\n",
            "Z: [24.64294356]\n",
            "x: [[67.78028728]\n",
            " [23.80916756]]\n",
            "P: [[3.87663654 0.61727454]\n",
            " [0.61727454 0.13717212]]\n",
            "K: [[0.03876637 0.00617275]\n",
            " [0.00617275 0.00137172]]\n",
            "Z: [17.63928511]\n",
            "x: [[68.4966712 ]\n",
            " [24.14135882]]\n",
            "P: [[3.84383049 0.60590637]\n",
            " [0.60590637 0.13316623]]\n",
            "K: [[0.0384383  0.00605906]\n",
            " [0.00605906 0.00133166]]\n",
            "Z: [19.53474458]\n",
            "x: [[69.01503368]\n",
            " [24.36528517]]\n",
            "P: [[3.81148358 0.5948293 ]\n",
            " [0.5948293  0.12931072]]\n",
            "K: [[0.03811484 0.00594829]\n",
            " [0.00594829 0.00129311]]\n",
            "Z: [15.45623698]\n",
            "x: [[69.69568591]\n",
            " [24.60004676]]\n",
            "P: [[3.77958929 0.5840343 ]\n",
            " [0.5840343  0.12559877]]\n",
            "K: [[0.03779589 0.00584034]\n",
            " [0.00584034 0.00125599]]\n",
            "Z: [18.91193303]\n",
            "x: [[70.32929411]\n",
            " [24.65640493]]\n",
            "P: [[3.7481411  0.57351266]\n",
            " [0.57351266 0.12202397]]\n",
            "K: [[0.03748141 0.00573513]\n",
            " [0.00573513 0.00122024]]\n",
            "Z: [19.55990162]\n",
            "x: [[70.90971545]\n",
            " [24.77239163]]\n",
            "P: [[3.71713242 0.56325595]\n",
            " [0.56325595 0.1185802 ]]\n",
            "K: [[0.03717132 0.00563256]\n",
            " [0.00563256 0.0011858 ]]\n",
            "Z: [17.55657119]\n",
            "x: [[71.54874304]\n",
            " [24.9507745 ]]\n",
            "P: [[3.6865567  0.55325601]\n",
            " [0.55325601 0.11526167]]\n",
            "K: [[0.03686557 0.00553256]\n",
            " [0.00553256 0.00115262]]\n",
            "Z: [18.1454354]\n",
            "x: [[72.22856162]\n",
            " [25.00022735]]\n",
            "P: [[3.65640737 0.54350499]\n",
            " [0.54350499 0.11206288]]\n",
            "K: [[0.03656407 0.00543505]\n",
            " [0.00543505 0.00112063]]\n",
            "Z: [20.53972242]\n",
            "x: [[72.99285164]\n",
            " [25.18025976]]\n",
            "P: [[3.62667787 0.53399528]\n",
            " [0.53399528 0.10897863]]\n",
            "K: [[0.03626678 0.00533995]\n",
            " [0.00533995 0.00108979]]\n",
            "Z: [21.22725576]\n",
            "x: [[73.76031576]\n",
            " [25.5728394 ]]\n",
            "P: [[3.59736168 0.52471953]\n",
            " [0.52471953 0.10600395]]\n",
            "K: [[0.03597362 0.0052472 ]\n",
            " [0.0052472  0.00106004]]\n",
            "Z: [18.52561176]\n",
            "x: [[74.47662673]\n",
            " [25.70416221]]\n",
            "P: [[3.5684523  0.51567066]\n",
            " [0.51567066 0.10313413]]\n",
            "K: [[0.03568452 0.00515671]\n",
            " [0.00515671 0.00103134]]\n",
            "Z: [19.80945425]\n",
            "x: [[75.22218309]\n",
            " [25.93555828]]\n",
            "P: [[3.53994328 0.50684181]\n",
            " [0.50684181 0.10036471]]\n",
            "K: [[0.03539943 0.00506842]\n",
            " [0.00506842 0.00100365]]\n",
            "Z: [19.23973994]\n",
            "x: [[76.00414261]\n",
            " [26.22713781]]\n",
            "P: [[3.51182821 0.49822636]\n",
            " [0.49822636 0.09769144]]\n",
            "K: [[0.03511828 0.00498226]\n",
            " [0.00498226 0.00097691]]\n",
            "Z: [19.13744114]\n",
            "x: [[76.82278041]\n",
            " [26.6010886 ]]\n",
            "P: [[3.48410073 0.48981792]\n",
            " [0.48981792 0.09511028]]\n",
            "K: [[0.03484101 0.00489818]\n",
            " [0.00489818 0.0009511 ]]\n",
            "Z: [18.62803111]\n",
            "x: [[77.5378126 ]\n",
            " [26.62581448]]\n",
            "P: [[3.45675455 0.48161031]\n",
            " [0.48161031 0.09261737]]\n",
            "K: [[0.03456755 0.0048161 ]\n",
            " [0.0048161  0.00092617]]\n",
            "Z: [19.74720254]\n",
            "x: [[78.37947191]\n",
            " [26.91686032]]\n",
            "P: [[3.42978343 0.47359756]\n",
            " [0.47359756 0.09020906]]\n",
            "K: [[0.03429783 0.00473598]\n",
            " [0.00473598 0.00090209]]\n",
            "Z: [19.88885475]\n",
            "x: [[79.17231276]\n",
            " [27.1182516 ]]\n",
            "P: [[3.4031812  0.46577392]\n",
            " [0.46577392 0.08788187]]\n",
            "K: [[0.03403181 0.00465774]\n",
            " [0.00465774 0.00087882]]\n",
            "Z: [19.32496839]\n",
            "x: [[80.04388377]\n",
            " [27.3258845 ]]\n",
            "P: [[3.37694177 0.4581338 ]\n",
            " [0.4581338  0.08563249]]\n",
            "K: [[0.03376942 0.00458134]\n",
            " [0.00458134 0.00085632]]\n",
            "Z: [21.21572632]\n",
            "x: [[80.83332849]\n",
            " [27.5924808 ]]\n",
            "P: [[3.3510591  0.45067183]\n",
            " [0.45067183 0.08345775]]\n",
            "K: [[0.03351059 0.00450672]\n",
            " [0.00450672 0.00083458]]\n",
            "Z: [17.93314854]\n",
            "x: [[81.80034784]\n",
            " [27.84048768]]\n",
            "P: [[3.32552726 0.44338282]\n",
            " [0.44338282 0.08135465]]\n",
            "K: [[0.03325527 0.00443383]\n",
            " [0.00443383 0.00081355]]\n",
            "Z: [22.80547539]\n",
            "x: [[82.74651918]\n",
            " [28.03726424]]\n",
            "P: [[3.30034037 0.43626172]\n",
            " [0.43626172 0.07932031]]\n",
            "K: [[0.0330034  0.00436262]\n",
            " [0.00436262 0.0007932 ]]\n",
            "Z: [22.71945815]\n",
            "x: [[83.50251878]\n",
            " [28.06745924]]\n",
            "P: [[3.27549265 0.42930369]\n",
            " [0.42930369 0.07735202]]\n",
            "K: [[0.03275493 0.00429304]\n",
            " [0.00429304 0.00077352]]\n",
            "Z: [19.45347458]\n",
            "x: [[84.29765994]\n",
            " [28.21800068]]\n",
            "P: [[3.25097838 0.42250404]\n",
            " [0.42250404 0.07544715]]\n",
            "K: [[0.03250978 0.00422504]\n",
            " [0.00422504 0.00075447]]\n",
            "Z: [19.07192945]\n",
            "x: [[85.11484131]\n",
            " [28.25982237]]\n",
            "P: [[3.22679195 0.41585822]\n",
            " [0.41585822 0.07360323]]\n",
            "K: [[0.03226792 0.00415858]\n",
            " [0.00415858 0.00073603]]\n",
            "Z: [21.11700342]\n",
            "x: [[85.83382681]\n",
            " [28.19719785]]\n",
            "P: [[3.20292781 0.40936186]\n",
            " [0.40936186 0.07181787]]\n",
            "K: [[0.03202928 0.00409362]\n",
            " [0.00409362 0.00071818]]\n",
            "Z: [19.89214349]\n",
            "x: [[86.65344251]\n",
            " [28.39119525]]\n",
            "P: [[3.17938051 0.4030107 ]\n",
            " [0.4030107  0.07008882]]\n",
            "K: [[0.03179381 0.00403011]\n",
            " [0.00403011 0.00070089]]\n",
            "Z: [19.59303901]\n",
            "x: [[87.50959061]\n",
            " [28.61366267]]\n",
            "P: [[3.15614469 0.39680066]\n",
            " [0.39680066 0.06841391]]\n",
            "K: [[0.03156145 0.00396801]\n",
            " [0.00396801 0.00068414]]\n",
            "Z: [20.02818119]\n",
            "x: [[88.46770375]\n",
            " [28.94445549]]\n",
            "P: [[3.13321506 0.39072777]\n",
            " [0.39072777 0.06679107]]\n",
            "K: [[0.03133215 0.00390728]\n",
            " [0.00390728 0.00066791]]\n",
            "Z: [21.23263523]\n",
            "x: [[89.37637102]\n",
            " [29.24518967]]\n",
            "P: [[3.11058643 0.38478819]\n",
            " [0.38478819 0.06521834]]\n",
            "K: [[0.03110586 0.00384788]\n",
            " [0.00384788 0.00065218]]\n",
            "Z: [19.64598606]\n",
            "x: [[90.34333243]\n",
            " [29.38137745]]\n",
            "P: [[3.08825368 0.37897821]\n",
            " [0.37897821 0.06369382]]\n",
            "K: [[0.03088254 0.00378978]\n",
            " [0.00378978 0.00063694]]\n",
            "Z: [23.3734615]\n",
            "x: [[91.27750304]\n",
            " [29.55246069]]\n",
            "P: [[3.0662118  0.37329425]\n",
            " [0.37329425 0.06221571]]\n",
            "K: [[0.03066212 0.00373294]\n",
            " [0.00373294 0.00062216]]\n",
            "Z: [21.88348478]\n",
            "x: [[92.18316007]\n",
            " [29.73328618]]\n",
            "P: [[3.04445584 0.36773284]\n",
            " [0.36773284 0.06078229]]\n",
            "K: [[0.03044456 0.00367733]\n",
            " [0.00367733 0.00060782]]\n",
            "Z: [20.74437037]\n",
            "x: [[93.15415256]\n",
            " [29.99343736]]\n",
            "P: [[3.02298095 0.36229063]\n",
            " [0.36229063 0.05939191]]\n",
            "K: [[0.03022981 0.00362291]\n",
            " [0.00362291 0.00059392]]\n",
            "Z: [21.42197517]\n",
            "x: [[94.14559259]\n",
            " [30.38400138]]\n",
            "P: [[3.00178238 0.35696435]\n",
            " [0.35696435 0.05804298]]\n",
            "K: [[0.03001782 0.00356964]\n",
            " [0.00356964 0.00058043]]\n",
            "Z: [19.72393292]\n",
            "x: [[95.08752129]\n",
            " [30.54764658]]\n",
            "P: [[2.98085542 0.35175087]\n",
            " [0.35175087 0.05673401]]\n",
            "K: [[0.02980855 0.00351751]\n",
            " [0.00351751 0.00056734]]\n",
            "Z: [20.8901839]\n",
            "x: [[95.99861272]\n",
            " [30.71541329]]\n",
            "P: [[2.96019549 0.34664715]\n",
            " [0.34664715 0.05546354]]\n",
            "K: [[0.02960195 0.00346647]\n",
            " [0.00346647 0.00055464]]\n",
            "Z: [19.72485761]\n",
            "x: [[97.01454232]\n",
            " [31.09315454]]\n",
            "P: [[2.93979807 0.34165024]\n",
            " [0.34165024 0.0542302 ]]\n",
            "K: [[0.02939798 0.0034165 ]\n",
            " [0.0034165  0.0005423 ]]\n",
            "Z: [19.66941328]\n",
            "x: [[97.95214253]\n",
            " [31.19913623]]\n",
            "P: [[2.91965871 0.33675728]\n",
            " [0.33675728 0.05303264]]\n",
            "K: [[0.02919659 0.00336757]\n",
            " [0.00336757 0.00053033]]\n",
            "Z: [20.67110526]\n",
            "x: [[98.90590568]\n",
            " [31.26902054]]\n",
            "P: [[2.89977308 0.33196551]\n",
            " [0.33196551 0.05186961]]\n",
            "K: [[0.02899773 0.00331966]\n",
            " [0.00331966 0.0005187 ]]\n",
            "Z: [21.81539032]\n",
            "x: [[99.86644337]\n",
            " [31.48092962]]\n",
            "P: [[2.88013688 0.32727227]\n",
            " [0.32727227 0.05073989]]\n",
            "K: [[0.02880137 0.00327272]\n",
            " [0.00327272 0.0005074 ]]\n",
            "Z: [19.94087575]\n",
            "x: [[100.86414591]\n",
            " [ 31.67001403]]\n",
            "P: [[2.86074594 0.32267495]\n",
            " [0.32267495 0.0496423 ]]\n",
            "K: [[0.02860746 0.00322675]\n",
            " [0.00322675 0.00049642]]\n",
            "Z: [21.25869402]\n",
            "x: [[101.87531489]\n",
            " [ 31.93338039]]\n",
            "P: [[2.84159612 0.31817105]\n",
            " [0.31817105 0.04857573]]\n",
            "K: [[0.02841596 0.00318171]\n",
            " [0.00318171 0.00048576]]\n",
            "Z: [20.32571552]\n",
            "x: [[102.86745194]\n",
            " [ 32.10037803]]\n",
            "P: [[2.8226834  0.31375814]\n",
            " [0.31375814 0.04753911]]\n",
            "K: [[0.02822683 0.00313758]\n",
            " [0.00313758 0.00047539]]\n",
            "Z: [20.83797304]\n",
            "x: [[103.81416391]\n",
            " [ 32.29478214]]\n",
            "P: [[2.80400379 0.30943385]\n",
            " [0.30943385 0.04653141]]\n",
            "K: [[0.02804004 0.00309434]\n",
            " [0.00309434 0.00046531]]\n",
            "Z: [18.71028632]\n",
            "x: [[104.92903647]\n",
            " [ 32.61968015]]\n",
            "P: [[2.78555342 0.30519592]\n",
            " [0.30519592 0.04555163]]\n",
            "K: [[0.02785553 0.00305196]\n",
            " [0.00305196 0.00045552]]\n",
            "Z: [22.02120879]\n",
            "x: [[105.95673764]\n",
            " [ 32.82941793]]\n",
            "P: [[2.76732847 0.30104213]\n",
            " [0.30104213 0.04459883]]\n",
            "K: [[0.02767328 0.00301042]\n",
            " [0.00301042 0.00044599]]\n",
            "Z: [20.39559102]\n",
            "x: [[107.08365569]\n",
            " [ 33.07094308]]\n",
            "P: [[2.74932519 0.29697032]\n",
            " [0.29697032 0.04367211]]\n",
            "K: [[0.02749325 0.0029697 ]\n",
            " [0.0029697  0.00043672]]\n",
            "Z: [23.03946732]\n",
            "x: [[108.00648999]\n",
            " [ 33.1297032 ]]\n",
            "P: [[2.7315399  0.29297843]\n",
            " [0.29297843 0.04277057]]\n",
            "K: [[0.0273154  0.00292978]\n",
            " [0.00292978 0.00042771]]\n",
            "Z: [18.73038732]\n",
            "x: [[109.22949844]\n",
            " [ 33.52146059]]\n",
            "P: [[2.71396901 0.28906443]\n",
            " [0.28906443 0.0418934 ]]\n",
            "K: [[0.02713969 0.00289064]\n",
            " [0.00289064 0.00041893]]\n",
            "Z: [23.73043885]\n",
            "x: [[110.3326907 ]\n",
            " [ 33.81871022]]\n",
            "P: [[2.69660898 0.28522637]\n",
            " [0.28522637 0.04103977]]\n",
            "K: [[0.02696609 0.00285226]\n",
            " [0.00285226 0.0004104 ]]\n",
            "Z: [20.40727315]\n",
            "x: [[111.38586021]\n",
            " [ 33.98283255]]\n",
            "P: [[2.67945633 0.28146235]\n",
            " [0.28146235 0.04020891]]\n",
            "K: [[0.02679456 0.00281462]\n",
            " [0.00281462 0.00040209]]\n",
            "Z: [20.39770568]\n",
            "x: [[112.4855721 ]\n",
            " [ 34.23848783]]\n",
            "P: [[2.66250768 0.27777054]\n",
            " [0.27777054 0.03940008]]\n",
            "K: [[0.02662508 0.00277771]\n",
            " [0.00277771 0.000394  ]]\n",
            "Z: [20.34687128]\n",
            "x: [[113.64935902]\n",
            " [ 34.62253241]]\n",
            "P: [[2.64575967 0.27414915]\n",
            " [0.27414915 0.03861256]]\n",
            "K: [[0.0264576  0.00274149]\n",
            " [0.00274149 0.00038613]]\n",
            "Z: [20.00474635]\n",
            "x: [[114.7038391 ]\n",
            " [ 34.77217325]]\n",
            "P: [[2.62920904 0.27059645]\n",
            " [0.27059645 0.03784566]]\n",
            "K: [[0.02629209 0.00270596]\n",
            " [0.00270596 0.00037846]]\n",
            "Z: [19.35855711]\n",
            "x: [[115.78605313]\n",
            " [ 34.95138007]]\n",
            "P: [[2.61285259 0.26711075]\n",
            " [0.26711075 0.03709872]]\n",
            "K: [[0.02612853 0.00267111]\n",
            " [0.00267111 0.00037099]]\n",
            "Z: [19.74286914]\n",
            "x: [[116.90573502]\n",
            " [ 35.2153128 ]]\n",
            "P: [[2.59668715 0.26369043]\n",
            " [0.26369043 0.03637109]]\n",
            "K: [[0.02596687 0.0026369 ]\n",
            " [0.0026369  0.00036371]]\n",
            "Z: [19.42064691]\n",
            "x: [[118.05634204]\n",
            " [ 35.40686023]]\n",
            "P: [[2.58070964 0.26033391]\n",
            " [0.26033391 0.03566218]]\n",
            "K: [[0.0258071  0.00260334]\n",
            " [0.00260334 0.00035662]]\n",
            "Z: [21.40699935]\n",
            "x: [[119.07649499]\n",
            " [ 35.59525362]]\n",
            "P: [[2.56491704 0.25703964]\n",
            " [0.25703964 0.03497138]]\n",
            "K: [[0.02564917 0.0025704 ]\n",
            " [0.0025704  0.00034971]]\n",
            "Z: [16.42296226]\n",
            "x: [[120.27539431]\n",
            " [ 35.83176626]]\n",
            "P: [[2.54930637 0.25380614]\n",
            " [0.25380614 0.03429813]]\n",
            "K: [[0.02549306 0.00253806]\n",
            " [0.00253806 0.00034298]]\n",
            "Z: [21.93630536]\n",
            "x: [[121.35914393]\n",
            " [ 36.06980288]]\n",
            "P: [[2.53387472 0.25063195]\n",
            " [0.25063195 0.03364187]]\n",
            "K: [[0.02533875 0.00250632]\n",
            " [0.00250632 0.00033642]]\n",
            "Z: [17.25371252]\n",
            "x: [[122.49063113]\n",
            " [ 36.32972241]]\n",
            "P: [[2.51861923 0.24751568]\n",
            " [0.24751568 0.03300209]]\n",
            "K: [[0.02518619 0.00247516]\n",
            " [0.00247516 0.00033002]]\n",
            "Z: [18.21191993]\n",
            "x: [[123.68435238]\n",
            " [ 36.44655542]]\n",
            "P: [[2.50353709 0.24445594]\n",
            " [0.24445594 0.03237827]]\n",
            "K: [[0.02503537 0.00244456]\n",
            " [0.00244456 0.00032378]]\n",
            "Z: [22.76108005]\n",
            "x: [[124.91479968]\n",
            " [ 36.64287889]]\n",
            "P: [[2.48862556 0.24145142]\n",
            " [0.24145142 0.03176992]]\n",
            "K: [[0.02488626 0.00241451]\n",
            " [0.00241451 0.0003177 ]]\n",
            "Z: [22.79806744]\n",
            "x: [[126.01746891]\n",
            " [ 36.89800959]]\n",
            "P: [[2.47388194 0.23850082]\n",
            " [0.23850082 0.03117658]]\n",
            "K: [[0.02473882 0.00238501]\n",
            " [0.00238501 0.00031177]]\n",
            "Z: [16.58449011]\n",
            "x: [[127.21431664]\n",
            " [ 37.05436906]]\n",
            "P: [[2.45930358 0.2356029 ]\n",
            " [0.2356029  0.03059778]]\n",
            "K: [[0.02459304 0.00235603]\n",
            " [0.00235603 0.00030598]]\n",
            "Z: [21.58811227]\n",
            "x: [[128.40797449]\n",
            " [ 37.34667525]]\n",
            "P: [[2.4448879  0.23275642]\n",
            " [0.23275642 0.03003309]]\n",
            "K: [[0.02444888 0.00232756]\n",
            " [0.00232756 0.00030033]]\n",
            "Z: [18.81049058]\n",
            "x: [[129.6371548 ]\n",
            " [ 37.65986961]]\n",
            "P: [[2.43063233 0.22996021]\n",
            " [0.22996021 0.02948208]]\n",
            "K: [[0.02430632 0.0022996 ]\n",
            " [0.0022996  0.00029482]]\n",
            "Z: [19.21108313]\n",
            "x: [[130.76355438]\n",
            " [ 37.89443611]]\n",
            "P: [[2.41653439 0.22721312]\n",
            " [0.22721312 0.02894435]]\n",
            "K: [[0.02416534 0.00227213]\n",
            " [0.00227213 0.00028944]]\n",
            "Z: [15.99415959]\n",
            "x: [[131.99219377]\n",
            " [ 38.14902214]]\n",
            "P: [[2.40259163 0.22451403]\n",
            " [0.22451403 0.0284195 ]]\n",
            "K: [[0.02402592 0.00224514]\n",
            " [0.00224514 0.00028419]]\n",
            "Z: [19.20921794]\n",
            "x: [[133.32267266]\n",
            " [ 38.45015301]]\n",
            "P: [[2.38880164 0.22186184]\n",
            " [0.22186184 0.02790715]]\n",
            "K: [[0.02388802 0.00221862]\n",
            " [0.00221862 0.00027907]]\n",
            "Z: [21.93943758]\n",
            "x: [[134.65565509]\n",
            " [ 38.79555454]]\n",
            "P: [[2.37516206 0.21925551]\n",
            " [0.21925551 0.02740694]]\n",
            "K: [[0.02375162 0.00219256]\n",
            " [0.00219256 0.00027407]]\n",
            "Z: [20.63873076]\n",
            "x: [[136.04756169]\n",
            " [ 39.15417767]]\n",
            "P: [[2.36167058 0.21669399]\n",
            " [0.21669399 0.02691851]]\n",
            "K: [[0.02361671 0.00216694]\n",
            " [0.00216694 0.00026919]]\n",
            "Z: [22.05237082]\n",
            "x: [[137.22745298]\n",
            " [ 39.29263718]]\n",
            "P: [[2.34832494 0.2141763 ]\n",
            " [0.2141763  0.02644152]]\n",
            "K: [[0.02348325 0.00214176]\n",
            " [0.00214176 0.00026442]]\n",
            "Z: [17.04294937]\n",
            "x: [[138.4509537 ]\n",
            " [ 39.57814463]]\n",
            "P: [[2.3351229  0.21170145]\n",
            " [0.21170145 0.02597564]]\n",
            "K: [[0.02335123 0.00211701]\n",
            " [0.00211701 0.00025976]]\n",
            "Z: [15.80138402]\n",
            "x: [[139.79428085]\n",
            " [ 39.86739091]]\n",
            "P: [[2.32206227 0.2092685 ]\n",
            " [0.2092685  0.02552055]]\n",
            "K: [[0.02322062 0.00209268]\n",
            " [0.00209268 0.00025521]]\n",
            "Z: [20.03648861]\n",
            "x: [[141.17605718]\n",
            " [ 40.02706268]]\n",
            "P: [[2.30914093 0.20687652]\n",
            " [0.20687652 0.02507594]]\n",
            "K: [[0.02309141 0.00206877]\n",
            " [0.00206877 0.00025076]]\n",
            "Z: [23.72514586]\n",
            "x: [[142.4029463 ]\n",
            " [ 40.29228256]]\n",
            "P: [[2.29635675 0.20452462]\n",
            " [0.20452462 0.02464152]]\n",
            "K: [[0.02296357 0.00204525]\n",
            " [0.00204525 0.00024642]]\n",
            "Z: [15.11975174]\n",
            "x: [[143.76631482]\n",
            " [ 40.57033727]]\n",
            "P: [[2.28370768 0.20221193]\n",
            " [0.20221193 0.024217  ]]\n",
            "K: [[0.02283708 0.00202212]\n",
            " [0.00202212 0.00024217]]\n",
            "Z: [20.00466128]\n",
            "x: [[145.20914529]\n",
            " [ 40.8381103 ]]\n",
            "P: [[2.2711917  0.19993759]\n",
            " [0.19993759 0.02380209]]\n",
            "K: [[0.02271192 0.00199938]\n",
            " [0.00199938 0.00023802]]\n",
            "Z: [23.07589062]\n",
            "x: [[146.64855046]\n",
            " [ 41.294026  ]]\n",
            "P: [[2.2588068  0.19770077]\n",
            " [0.19770077 0.02339654]]\n",
            "K: [[0.02258807 0.00197701]\n",
            " [0.00197701 0.00023397]]\n",
            "Z: [18.64387418]\n",
            "x: [[148.1477384 ]\n",
            " [ 41.68436177]]\n",
            "P: [[2.24655105 0.19550067]\n",
            " [0.19550067 0.02300008]]\n",
            "K: [[0.02246551 0.00195501]\n",
            " [0.00195501 0.00023   ]]\n",
            "Z: [21.37685024]\n",
            "x: [[149.49375787]\n",
            " [ 41.82769181]]\n",
            "P: [[2.23442252 0.19333651]\n",
            " [0.19333651 0.02261246]]\n",
            "K: [[0.02234423 0.00193337]\n",
            " [0.00193337 0.00022612]]\n",
            "Z: [19.09775031]\n",
            "x: [[150.81051924]\n",
            " [ 41.87174299]]\n",
            "P: [[2.22241933 0.19120752]\n",
            " [0.19120752 0.02223343]]\n",
            "K: [[0.02222419 0.00191208]\n",
            " [0.00191208 0.00022233]]\n",
            "Z: [19.91861797]\n",
            "x: [[152.20039754]\n",
            " [ 42.132744  ]]\n",
            "P: [[2.21053965 0.18911295]\n",
            " [0.18911295 0.02186277]]\n",
            "K: [[0.0221054  0.00189113]\n",
            " [0.00189113 0.00021863]]\n",
            "Z: [18.87461198]\n",
            "x: [[153.54877952]\n",
            " [ 42.36597628]]\n",
            "P: [[2.19878165 0.18705208]\n",
            " [0.18705208 0.02150024]]\n",
            "K: [[0.02198782 0.00187052]\n",
            " [0.00187052 0.000215  ]]\n",
            "Z: [17.17335338]\n",
            "x: [[154.85478305]\n",
            " [ 42.53366924]]\n",
            "P: [[2.18714357 0.1850242 ]\n",
            " [0.1850242  0.02114562]]\n",
            "K: [[0.02187144 0.00185024]\n",
            " [0.00185024 0.00021146]]\n",
            "Z: [16.29778498]\n",
            "x: [[156.26165348]\n",
            " [ 42.88398525]]\n",
            "P: [[2.17562365 0.18302862]\n",
            " [0.18302862 0.02079871]]\n",
            "K: [[0.02175624 0.00183029]\n",
            " [0.00183029 0.00020799]]\n",
            "Z: [16.62822708]\n",
            "x: [[157.62241667]\n",
            " [ 43.00748669]]\n",
            "P: [[2.16422018 0.18106468]\n",
            " [0.18106468 0.02045929]]\n",
            "K: [[0.0216422  0.00181065]\n",
            " [0.00181065 0.00020459]]\n",
            "Z: [18.6160718]\n",
            "x: [[159.02160864]\n",
            " [ 43.26388021]]\n",
            "P: [[2.15293148 0.17913171]\n",
            " [0.17913171 0.02012716]]\n",
            "K: [[0.02152931 0.00179132]\n",
            " [0.00179132 0.00020127]]\n",
            "Z: [17.48224003]\n",
            "x: [[160.5649549 ]\n",
            " [ 43.62720216]]\n",
            "P: [[2.14175589 0.17722909]\n",
            " [0.17722909 0.01980213]]\n",
            "K: [[0.02141756 0.00177229]\n",
            " [0.00177229 0.00019802]]\n",
            "Z: [21.11547971]\n",
            "x: [[162.07899587]\n",
            " [ 43.83849464]]\n",
            "P: [[2.1306918  0.17535618]\n",
            " [0.17535618 0.01948402]]\n",
            "K: [[0.02130692 0.00175356]\n",
            " [0.00175356 0.00019484]]\n",
            "Z: [22.31949179]\n",
            "x: [[163.61158237]\n",
            " [ 44.10211288]]\n",
            "P: [[2.1197376  0.17351238]\n",
            " [0.17351238 0.01917264]]\n",
            "K: [[0.02119738 0.00173512]\n",
            " [0.00173512 0.00019173]]\n",
            "Z: [21.8070307]\n",
            "x: [[165.06923386]\n",
            " [ 44.34640596]]\n",
            "P: [[2.10889175 0.17169711]\n",
            " [0.17169711 0.01886781]]\n",
            "K: [[0.02108892 0.00171697]\n",
            " [0.00171697 0.00018868]]\n",
            "Z: [18.3935212]\n",
            "x: [[166.58818803]\n",
            " [ 44.70904421]]\n",
            "P: [[2.09815269 0.16990977]\n",
            " [0.16990977 0.01856937]]\n",
            "K: [[0.02098153 0.0016991 ]\n",
            " [0.0016991  0.00018569]]\n",
            "Z: [18.12353696]\n",
            "x: [[168.16312073]\n",
            " [ 44.97382742]]\n",
            "P: [[2.08751892 0.16814982]\n",
            " [0.16814982 0.01827715]]\n",
            "K: [[0.02087519 0.0016815 ]\n",
            " [0.0016815  0.00018277]]\n",
            "Z: [22.00457963]\n",
            "x: [[169.79178649]\n",
            " [ 45.34055046]]\n",
            "P: [[2.07698896 0.16641671]\n",
            " [0.16641671 0.017991  ]]\n",
            "K: [[0.02076989 0.00166417]\n",
            " [0.00166417 0.00017991]]\n",
            "Z: [21.77287902]\n",
            "x: [[171.39017819]\n",
            " [ 45.64555852]]\n",
            "P: [[2.06656136 0.16470989]\n",
            " [0.16470989 0.01771074]]\n",
            "K: [[0.02066561 0.0016471 ]\n",
            " [0.0016471  0.00017711]]\n",
            "Z: [20.93119285]\n",
            "x: [[172.96381062]\n",
            " [ 45.95323211]]\n",
            "P: [[2.05623467 0.16302885]\n",
            " [0.16302885 0.01743624]]\n",
            "K: [[0.02056235 0.00163029]\n",
            " [0.00163029 0.00017436]]\n",
            "Z: [19.10637982]\n",
            "x: [[174.44277132]\n",
            " [ 46.12402218]]\n",
            "P: [[2.04600751 0.16137308]\n",
            " [0.16137308 0.01716735]]\n",
            "K: [[0.02046008 0.00161373]\n",
            " [0.00161373 0.00017167]]\n",
            "Z: [17.13794842]\n",
            "x: [[175.87492887]\n",
            " [ 46.24370284]]\n",
            "P: [[2.03587848 0.15974208]\n",
            " [0.15974208 0.01690392]]\n",
            "K: [[0.02035878 0.00159742]\n",
            " [0.00159742 0.00016904]]\n",
            "Z: [15.96281761]\n",
            "x: [[177.61110437]\n",
            " [ 46.67875692]]\n",
            "P: [[2.02584624 0.15813537]\n",
            " [0.15813537 0.01664583]]\n",
            "K: [[0.02025846 0.00158135]\n",
            " [0.00158135 0.00016646]]\n",
            "Z: [23.14283988]\n",
            "x: [[179.08794732]\n",
            " [ 46.76565784]]\n",
            "P: [[2.01590944 0.15655247]\n",
            " [0.15655247 0.01639293]]\n",
            "K: [[0.02015909 0.00156552]\n",
            " [0.00156552 0.00016393]]\n",
            "Z: [17.7647303]\n",
            "x: [[180.73562585]\n",
            " [ 47.19449775]]\n",
            "P: [[2.00606679 0.15499292]\n",
            " [0.15499292 0.0161451 ]]\n",
            "K: [[0.02006067 0.00154993]\n",
            " [0.00154993 0.00016145]]\n",
            "Z: [18.16942665]\n",
            "x: [[182.32460644]\n",
            " [ 47.39145916]]\n",
            "P: [[1.996317   0.15345628]\n",
            " [0.15345628 0.0159022 ]]\n",
            "K: [[0.01996317 0.00153456]\n",
            " [0.00153456 0.00015902]]\n",
            "Z: [19.5990534]\n",
            "x: [[184.0013771 ]\n",
            " [ 47.62563442]]\n",
            "P: [[1.9866588  0.15194209]\n",
            " [0.15194209 0.01566413]]\n",
            "K: [[0.01986659 0.00151942]\n",
            " [0.00151942 0.00015664]]\n",
            "Z: [22.79558823]\n",
            "x: [[185.53871038]\n",
            " [ 47.75869718]]\n",
            "P: [[1.97709095 0.15044994]\n",
            " [0.15044994 0.01543076]]\n",
            "K: [[0.01977091 0.0015045 ]\n",
            " [0.0015045  0.00015431]]\n",
            "Z: [18.1243507]\n",
            "x: [[187.23013259]\n",
            " [ 48.08644055]]\n",
            "P: [[1.96761223 0.14897939]\n",
            " [0.14897939 0.01520198]]\n",
            "K: [[0.01967612 0.00148979]\n",
            " [0.00148979 0.00015202]]\n",
            "Z: [21.05913597]\n",
            "x: [[188.78291553]\n",
            " [ 48.15145481]]\n",
            "P: [[1.95822145 0.14753004]\n",
            " [0.14753004 0.01497767]]\n",
            "K: [[0.01958221 0.0014753 ]\n",
            " [0.0014753  0.00014978]]\n",
            "Z: [19.82525842]\n",
            "x: [[190.55510762]\n",
            " [ 48.54154819]]\n",
            "P: [[1.94891742 0.1461015 ]\n",
            " [0.1461015  0.01475773]]\n",
            "K: [[0.01948917 0.00146102]\n",
            " [0.00146102 0.00014758]]\n",
            "Z: [23.19899458]\n",
            "x: [[192.21868276]\n",
            " [ 48.86630576]]\n",
            "P: [[1.93969898 0.14469336]\n",
            " [0.14469336 0.01454205]]\n",
            "K: [[0.01939699 0.00144693]\n",
            " [0.00144693 0.00014542]]\n",
            "Z: [18.40615321]\n",
            "x: [[193.78722439]\n",
            " [ 49.03595368]]\n",
            "P: [[1.930565   0.14330526]\n",
            " [0.14330526 0.01433053]]\n",
            "K: [[0.01930565 0.00143305]\n",
            " [0.00143305 0.00014331]]\n",
            "Z: [16.65346073]\n"
          ],
          "name": "stdout"
        }
      ]
    },
    {
      "cell_type": "markdown",
      "metadata": {
        "id": "q8LXMofsc_f3",
        "colab_type": "text"
      },
      "source": [
        "### State Estimate $x$"
      ]
    },
    {
      "cell_type": "code",
      "metadata": {
        "id": "dkflbLD1c_f4",
        "colab_type": "code",
        "outputId": "e2915baf-5be2-46a6-e062-01a3720ca492",
        "colab": {
          "base_uri": "https://localhost:8080/",
          "height": 1000
        }
      },
      "source": [
        "measurements"
      ],
      "execution_count": 538,
      "outputs": [
        {
          "output_type": "execute_result",
          "data": {
            "text/plain": [
              "array([[20.08469743],\n",
              "       [19.15807378],\n",
              "       [21.06383541],\n",
              "       [18.99320616],\n",
              "       [17.16720954],\n",
              "       [18.66474736],\n",
              "       [18.38557074],\n",
              "       [20.53451967],\n",
              "       [18.84159994],\n",
              "       [21.60203266],\n",
              "       [19.12564153],\n",
              "       [18.7022321 ],\n",
              "       [17.25628778],\n",
              "       [24.77403087],\n",
              "       [19.65674018],\n",
              "       [16.22676259],\n",
              "       [20.47273658],\n",
              "       [23.00778422],\n",
              "       [21.04635018],\n",
              "       [22.8930906 ],\n",
              "       [19.75534561],\n",
              "       [20.49460523],\n",
              "       [19.54061281],\n",
              "       [21.6185977 ],\n",
              "       [18.25957676],\n",
              "       [18.3516844 ],\n",
              "       [22.01478723],\n",
              "       [20.21738001],\n",
              "       [17.89353717],\n",
              "       [22.00325338],\n",
              "       [20.02661552],\n",
              "       [18.83895303],\n",
              "       [19.86814381],\n",
              "       [16.24356786],\n",
              "       [21.02268107],\n",
              "       [20.39605865],\n",
              "       [19.64164959],\n",
              "       [18.75506221],\n",
              "       [21.84777254],\n",
              "       [24.1810537 ],\n",
              "       [18.44790769],\n",
              "       [17.36460948],\n",
              "       [20.54570229],\n",
              "       [21.16686614],\n",
              "       [20.64954213],\n",
              "       [21.63505879],\n",
              "       [19.89713071],\n",
              "       [22.19598131],\n",
              "       [17.14784059],\n",
              "       [18.65385099],\n",
              "       [18.53091057],\n",
              "       [16.64395367],\n",
              "       [17.99776405],\n",
              "       [17.58638278],\n",
              "       [15.83924892],\n",
              "       [23.29806826],\n",
              "       [19.15425385],\n",
              "       [23.50067815],\n",
              "       [20.97474243],\n",
              "       [19.4032186 ],\n",
              "       [18.71514387],\n",
              "       [20.44653518],\n",
              "       [18.30175326],\n",
              "       [20.85927129],\n",
              "       [17.62630074],\n",
              "       [21.65774105],\n",
              "       [17.98242596],\n",
              "       [21.6720475 ],\n",
              "       [22.57227261],\n",
              "       [16.40105889],\n",
              "       [20.52035078],\n",
              "       [19.31471451],\n",
              "       [20.73787963],\n",
              "       [16.58723484],\n",
              "       [20.01896663],\n",
              "       [20.28385307],\n",
              "       [21.71612505],\n",
              "       [20.56688476],\n",
              "       [23.86244729],\n",
              "       [20.34413637],\n",
              "       [20.86569742],\n",
              "       [19.30131403],\n",
              "       [19.38744192],\n",
              "       [21.96683588],\n",
              "       [17.1040011 ],\n",
              "       [23.12331155],\n",
              "       [18.00758197],\n",
              "       [18.45552543],\n",
              "       [24.64294356],\n",
              "       [17.63928511],\n",
              "       [19.53474458],\n",
              "       [15.45623698],\n",
              "       [18.91193303],\n",
              "       [19.55990162],\n",
              "       [17.55657119],\n",
              "       [18.1454354 ],\n",
              "       [20.53972242],\n",
              "       [21.22725576],\n",
              "       [18.52561176],\n",
              "       [19.80945425],\n",
              "       [19.23973994],\n",
              "       [19.13744114],\n",
              "       [18.62803111],\n",
              "       [19.74720254],\n",
              "       [19.88885475],\n",
              "       [19.32496839],\n",
              "       [21.21572632],\n",
              "       [17.93314854],\n",
              "       [22.80547539],\n",
              "       [22.71945815],\n",
              "       [19.45347458],\n",
              "       [19.07192945],\n",
              "       [21.11700342],\n",
              "       [19.89214349],\n",
              "       [19.59303901],\n",
              "       [20.02818119],\n",
              "       [21.23263523],\n",
              "       [19.64598606],\n",
              "       [23.3734615 ],\n",
              "       [21.88348478],\n",
              "       [20.74437037],\n",
              "       [21.42197517],\n",
              "       [19.72393292],\n",
              "       [20.8901839 ],\n",
              "       [19.72485761],\n",
              "       [19.66941328],\n",
              "       [20.67110526],\n",
              "       [21.81539032],\n",
              "       [19.94087575],\n",
              "       [21.25869402],\n",
              "       [20.32571552],\n",
              "       [20.83797304],\n",
              "       [18.71028632],\n",
              "       [22.02120879],\n",
              "       [20.39559102],\n",
              "       [23.03946732],\n",
              "       [18.73038732],\n",
              "       [23.73043885],\n",
              "       [20.40727315],\n",
              "       [20.39770568],\n",
              "       [20.34687128],\n",
              "       [20.00474635],\n",
              "       [19.35855711],\n",
              "       [19.74286914],\n",
              "       [19.42064691],\n",
              "       [21.40699935],\n",
              "       [16.42296226],\n",
              "       [21.93630536],\n",
              "       [17.25371252],\n",
              "       [18.21191993],\n",
              "       [22.76108005],\n",
              "       [22.79806744],\n",
              "       [16.58449011],\n",
              "       [21.58811227],\n",
              "       [18.81049058],\n",
              "       [19.21108313],\n",
              "       [15.99415959],\n",
              "       [19.20921794],\n",
              "       [21.93943758],\n",
              "       [20.63873076],\n",
              "       [22.05237082],\n",
              "       [17.04294937],\n",
              "       [15.80138402],\n",
              "       [20.03648861],\n",
              "       [23.72514586],\n",
              "       [15.11975174],\n",
              "       [20.00466128],\n",
              "       [23.07589062],\n",
              "       [18.64387418],\n",
              "       [21.37685024],\n",
              "       [19.09775031],\n",
              "       [19.91861797],\n",
              "       [18.87461198],\n",
              "       [17.17335338],\n",
              "       [16.29778498],\n",
              "       [16.62822708],\n",
              "       [18.6160718 ],\n",
              "       [17.48224003],\n",
              "       [21.11547971],\n",
              "       [22.31949179],\n",
              "       [21.8070307 ],\n",
              "       [18.3935212 ],\n",
              "       [18.12353696],\n",
              "       [22.00457963],\n",
              "       [21.77287902],\n",
              "       [20.93119285],\n",
              "       [19.10637982],\n",
              "       [17.13794842],\n",
              "       [15.96281761],\n",
              "       [23.14283988],\n",
              "       [17.7647303 ],\n",
              "       [18.16942665],\n",
              "       [19.5990534 ],\n",
              "       [22.79558823],\n",
              "       [18.1243507 ],\n",
              "       [21.05913597],\n",
              "       [19.82525842],\n",
              "       [23.19899458],\n",
              "       [18.40615321],\n",
              "       [16.65346073]])"
            ]
          },
          "metadata": {
            "tags": []
          },
          "execution_count": 538
        }
      ]
    },
    {
      "cell_type": "code",
      "metadata": {
        "id": "axSKgZQNc_f7",
        "colab_type": "code",
        "outputId": "29b94c17-1eeb-46ea-9c96-59bd53454c7e",
        "colab": {
          "base_uri": "https://localhost:8080/",
          "height": 950
        }
      },
      "source": [
        "def plot_x():\n",
        "    fig = plt.figure(figsize=(16,16))\n",
        "    plt.step(range(200),dxt, label='$\\dot x$')\n",
        "    #plt.step(range(200)),dyt, label='$\\dot y$')\n",
        "\n",
        "    plt.axhline(vx, color='#999999', label='$\\dot x_{real}$')\n",
        "    #plt.axhline(vy, color='#999999', label='$\\dot y_{real}$')\n",
        "\n",
        "    plt.xlabel('Filter Step')\n",
        "    plt.title('Estimate (Elements from State Vector $x$)')\n",
        "    plt.legend(loc='best',prop={'size':22})\n",
        "    plt.ylim([0, 50])\n",
        "    plt.ylabel('Velocity')\n",
        "\n",
        "\n",
        "\n",
        "plot_x()"
      ],
      "execution_count": 539,
      "outputs": [
        {
          "output_type": "display_data",
          "data": {
            "image/png": "[encoded data removed]",
            "text/plain": [
              "<Figure size 1152x1152 with 1 Axes>"
            ]
          },
          "metadata": {
            "tags": []
          }
        }
      ]
    },
    {
      "cell_type": "code",
      "metadata": {
        "id": "821BX8B2c_f9",
        "colab_type": "code",
        "outputId": "03b8b92a-6579-4d63-90fe-ae5eb7e3b404",
        "colab": {
          "base_uri": "https://localhost:8080/",
          "height": 567
        }
      },
      "source": [
        "def plot_K():\n",
        "    fig = plt.figure(figsize=(16,9))\n",
        "    plt.plot(range(200),Kx, label='Kalman Gain for $x$')\n",
        "    #plt.plot(range(len(measurements[0])),Ky, label='Kalman Gain for $y$')\n",
        "    plt.plot(range(200),Kdx, label='Kalman Gain for $\\dot x$')\n",
        "   # plt.plot(range(len(measurements[0])),Kdy, label='Kalman Gain for $\\dot y$')\n",
        "\n",
        "    plt.xlabel('Filter Step')\n",
        "    plt.ylabel('')\n",
        "    plt.title('Kalman Gain (the lower, the more the measurement fullfill the prediction)')\n",
        "    plt.legend(loc='best',prop={'size':22})\n",
        "\n",
        "\n",
        "\n",
        "plot_K()"
      ],
      "execution_count": 540,
      "outputs": [
        {
          "output_type": "display_data",
          "data": {
            "image/png": "[encoded data removed]",
            "text/plain": [
              "<Figure size 1152x648 with 1 Axes>"
            ]
          },
          "metadata": {
            "tags": []
          }
        }
      ]
    },
    {
      "cell_type": "code",
      "metadata": {
        "scrolled": true,
        "id": "5Zfm8DaNc_gA",
        "colab_type": "code",
        "outputId": "fe81e2cc-397c-440b-e417-95af65f34310",
        "colab": {
          "base_uri": "https://localhost:8080/",
          "height": 569
        }
      },
      "source": [
        "def plot_P():\n",
        "    fig = plt.figure(figsize=(16,9))\n",
        "    plt.plot(range(200),Px, label='$x$')\n",
        "    #plt.plot(range(len(measurements[0])),Py, label='$y$')\n",
        "    plt.plot(range(200),Pdx, label='$\\dot x$')\n",
        "    #plt.plot(range(len(measurements[0])),Pdy, label='$\\dot y$')\n",
        "\n",
        "    plt.xlabel('Filter Step')\n",
        "    plt.ylabel('')\n",
        "    plt.title('Uncertainty (Elements from Matrix $P$)')\n",
        "    plt.legend(loc='best',prop={'size':22})\n",
        "\n",
        "\n",
        "plot_P()"
      ],
      "execution_count": 541,
      "outputs": [
        {
          "output_type": "display_data",
          "data": {
            "image/png": "[encoded data removed]",
            "text/plain": [
              "<Figure size 1152x648 with 1 Axes>"
            ]
          },
          "metadata": {
            "tags": []
          }
        }
      ]
    },
    {
      "cell_type": "code",
      "metadata": {
        "id": "F9GZ5QQfc_gC",
        "colab_type": "code",
        "outputId": "fde81909-d365-4be2-c898-412cb7c1cb2a",
        "colab": {
          "base_uri": "https://localhost:8080/",
          "height": 35
        }
      },
      "source": [
        "print(len(measurements[0]))"
      ],
      "execution_count": 542,
      "outputs": [
        {
          "output_type": "stream",
          "text": [
            "1\n"
          ],
          "name": "stdout"
        }
      ]
    },
    {
      "cell_type": "code",
      "metadata": {
        "id": "k7HlB6YSc_gF",
        "colab_type": "code",
        "outputId": "1f0c354f-5122-4fe3-a595-f38fec9786e9",
        "colab": {
          "base_uri": "https://localhost:8080/",
          "height": 1000
        }
      },
      "source": [
        "Pdx"
      ],
      "execution_count": 543,
      "outputs": [
        {
          "output_type": "execute_result",
          "data": {
            "text/plain": [
              "[8.25347333669586,\n",
              " 7.615501776950415,\n",
              " 7.0615927814829345,\n",
              " 6.574141709276844,\n",
              " 6.140201262152482,\n",
              " 5.750063889598773,\n",
              " 5.3963304952632205,\n",
              " 5.073280721533258,\n",
              " 4.776436247843969,\n",
              " 4.50225112556278,\n",
              " 4.247887855760607,\n",
              " 4.011052678491843,\n",
              " 3.789872618170333,\n",
              " 3.5828025477707,\n",
              " 3.3885542168674694,\n",
              " 3.2060416072955253,\n",
              " 3.034338598472716,\n",
              " 2.8726460261729967,\n",
              " 2.7202659815626413,\n",
              " 2.576581734898368,\n",
              " 2.441042053730048,\n",
              " 2.3131489667934613,\n",
              " 2.192448233861145,\n",
              " 2.0785219399538106,\n",
              " 1.9709827539009033,\n",
              " 1.86946948610361,\n",
              " 1.7736436552825021,\n",
              " 1.683186833738545,\n",
              " 1.5977985886112467,\n",
              " 1.5171948752528657,\n",
              " 1.4411067699993594,\n",
              " 1.3692794547224925,\n",
              " 1.3014713857055056,\n",
              " 1.2374535954901689,\n",
              " 1.1770090891257434,\n",
              " 1.119932306313929,\n",
              " 1.0660286287910639,\n",
              " 1.0151139183397242,\n",
              " 0.9670140754270973,\n",
              " 0.9215646119189017,\n",
              " 0.8786102338567566,\n",
              " 0.8380044321123292,\n",
              " 0.7996090800053302,\n",
              " 0.7632940378254596,\n",
              " 0.7289367647356587,\n",
              " 0.6964219388386773,\n",
              " 0.6656410863262525,\n",
              " 0.6364922206506362,\n",
              " 0.6088794926004225,\n",
              " 0.5827128520556811,\n",
              " 0.5579077220627705,\n",
              " 0.5343846857224284,\n",
              " 0.5120691862367178,\n",
              " 0.4908912403185335,\n",
              " 0.47078516503635465,\n",
              " 0.45168931804950474,\n",
              " 0.43354585108663407,\n",
              " 0.4163004764327671,\n",
              " 0.3999022461176153,\n",
              " 0.38430334343908756,\n",
              " 0.369458886409865,\n",
              " 0.35532674268026876,\n",
              " 0.3418673554660788,\n",
              " 0.32904357999415,\n",
              " 0.31682052997034177,\n",
              " 0.3051654335722663,\n",
              " 0.2940474984725863,\n",
              " 0.2834377854061031,\n",
              " 0.2733090898048115,\n",
              " 0.26363583103872495,\n",
              " 0.2543939488159373,\n",
              " 0.2455608063125496,\n",
              " 0.2371150996212743,\n",
              " 0.22903677312635176,\n",
              " 0.22130694043154833,\n",
              " 0.2139078104871867,\n",
              " 0.20682261858117365,\n",
              " 0.20003556187766694,\n",
              " 0.19353173920522945,\n",
              " 0.18729709481395135,\n",
              " 0.18131836583800795,\n",
              " 0.17558303321640784,\n",
              " 0.17007927584023866,\n",
              " 0.1647959277095195,\n",
              " 0.15972243789681023,\n",
              " 0.15484883312801506,\n",
              " 0.1501656828033595,\n",
              " 0.14566406629333487,\n",
              " 0.14133554235551365,\n",
              " 0.1371721205285697,\n",
              " 0.13316623436961306,\n",
              " 0.12931071641010444,\n",
              " 0.12559877471417538,\n",
              " 0.12202397093117831,\n",
              " 0.11858019974175851,\n",
              " 0.11526166960370461,\n",
              " 0.11206288471032663,\n",
              " 0.10897862808015969,\n",
              " 0.10600394570242322,\n",
              " 0.10313413166790796,\n",
              " 0.10036471421983985,\n",
              " 0.09769144266380671,\n",
              " 0.09511027508005103,\n",
              " 0.092617366785354,\n",
              " 0.09020905949538044,\n",
              " 0.08788187114174165,\n",
              " 0.08563248630118078,\n",
              " 0.08345774719721057,\n",
              " 0.08135464523725039,\n",
              " 0.07932031305083542,\n",
              " 0.07735201699681646,\n",
              " 0.07544715010964978,\n",
              " 0.07360322545690218,\n",
              " 0.07181786988197923,\n",
              " 0.07008881810783547,\n",
              " 0.0684139071790513,\n",
              " 0.06679107122117449,\n",
              " 0.06521833649763034,\n",
              " 0.06369381674581208,\n",
              " 0.062215708775180026,\n",
              " 0.06078228831132953,\n",
              " 0.05939190607104059,\n",
              " 0.05804298405430239,\n",
              " 0.056734012040218065,\n",
              " 0.0554635442745445,\n",
              " 0.05423019633741301,\n",
              " 0.053032642180513644,\n",
              " 0.05186961132371244,\n",
              " 0.05073988620171074,\n",
              " 0.049642299651952285,\n",
              " 0.04857573253553986,\n",
              " 0.047539111483442094,\n",
              " 0.046531406760754866,\n",
              " 0.04555163024223342,\n",
              " 0.04459883349273284,\n",
              " 0.04367210594658801,\n",
              " 0.042770573180331874,\n",
              " 0.04189339527349402,\n",
              " 0.04103976525254273,\n",
              " 0.04020890761333325,\n",
              " 0.03940007691770569,\n",
              " 0.03861255646013809,\n",
              " 0.037845657000605507,\n",
              " 0.0370987155600257,\n",
              " 0.03637109427488664,\n",
              " 0.03566217930785255,\n",
              " 0.03497137981133327,\n",
              " 0.03429812694117869,\n",
              " 0.033641872917825034,\n",
              " 0.03300209013237503,\n",
              " 0.032378270295239445,\n",
              " 0.03176992362510359,\n",
              " 0.031176578076110677,\n",
              " 0.03059777860127354,\n",
              " 0.03003308645023934,\n",
              " 0.029482078499637365,\n",
              " 0.02894434661433957,\n",
              " 0.02841949703805686,\n",
              " 0.027907149811781776,\n",
              " 0.027406938218670823,\n",
              " 0.02691850825403714,\n",
              " 0.026441518119197188,\n",
              " 0.025975637737983743,\n",
              " 0.025520548294802034,\n",
              " 0.025075941793166672,\n",
              " 0.024641520633714206,\n",
              " 0.024216997210740086,\n",
              " 0.023802093526359504,\n",
              " 0.02339654082143956,\n",
              " 0.02300007922249511,\n",
              " 0.022612457403783377,\n",
              " 0.022233432263872314,\n",
              " 0.021862768615995662,\n",
              " 0.02150023889154325,\n",
              " 0.021145622856068805,\n",
              " 0.020798707337229327,\n",
              " 0.020459285964100103,\n",
              " 0.02012715891733777,\n",
              " 0.019802132689690694,\n",
              " 0.019484019856381138,\n",
              " 0.01917263885490777,\n",
              " 0.018867813773839497,\n",
              " 0.01856937415019324,\n",
              " 0.018277154775008242,\n",
              " 0.017990995506748892,\n",
              " 0.017710741092186004,\n",
              " 0.01743624099442372,\n",
              " 0.01716734922775543,\n",
              " 0.016903924199047488,\n",
              " 0.01664582855536405,\n",
              " 0.016392929037560233,\n",
              " 0.016145096339583782,\n",
              " 0.015902204973237938,\n",
              " 0.01566413313816986,\n",
              " 0.015430762596860206,\n",
              " 0.015201978554399965,\n",
              " 0.014977669542850762,\n",
              " 0.014757727309994284,\n",
              " 0.01454204671228563,\n",
              " 0.014330525611833853]"
            ]
          },
          "metadata": {
            "tags": []
          },
          "execution_count": 543
        }
      ]
    },
    {
      "cell_type": "code",
      "metadata": {
        "id": "wujOKlo-c_gH",
        "colab_type": "code",
        "outputId": "f2b414b8-0508-4292-b6cf-f26d780e259c",
        "colab": {
          "base_uri": "https://localhost:8080/",
          "height": 35
        }
      },
      "source": [
        "print(measurements.shape)"
      ],
      "execution_count": 544,
      "outputs": [
        {
          "output_type": "stream",
          "text": [
            "(200, 1)\n"
          ],
          "name": "stdout"
        }
      ]
    },
    {
      "cell_type": "code",
      "metadata": {
        "scrolled": false,
        "id": "SXUf8Kq0c_gJ",
        "colab_type": "code",
        "outputId": "bd5c5c85-10d4-4c6d-9a1e-03d9d43b215a",
        "colab": {
          "base_uri": "https://localhost:8080/",
          "height": 948
        }
      },
      "source": [
        "def plot_xy():\n",
        "    fig = plt.figure(figsize=(16,16))\n",
        "    \n",
        "   \n",
        "    plt.scatter(aer,xt, s=20, label='State', c='k')\n",
        "    #plt.scatter(rr,i, s=5, label='original', c='b')\n",
        "    plt.scatter(aer[0],xt[0], s=100, label='Start', c='g')\n",
        "    plt.scatter(aer[-1],xt[-1], s=100, label='Goal', c='r')\n",
        "\n",
        "    plt.xlabel('X')\n",
        "    plt.ylabel('Time Step')\n",
        "    plt.title('Position')\n",
        "    plt.legend(loc='best')\n",
        "    plt.axis('equal')\n",
        "    \n",
        "plot_xy()"
      ],
      "execution_count": 545,
      "outputs": [
        {
          "output_type": "display_data",
          "data": {
            "image/png": "[encoded data removed]",
            "text/plain": [
              "<Figure size 1152x1152 with 1 Axes>"
            ]
          },
          "metadata": {
            "tags": []
          }
        }
      ]
    },
    {
      "cell_type": "code",
      "metadata": {
        "scrolled": false,
        "id": "GXw6sLg9c_gL",
        "colab_type": "code",
        "outputId": "92e8dbdc-a135-4994-bfc9-b2143fe172ec",
        "colab": {
          "base_uri": "https://localhost:8080/",
          "height": 948
        }
      },
      "source": [
        "def plot_dxt():\n",
        "    fig = plt.figure(figsize=(16,16))\n",
        "    \n",
        "   \n",
        "    plt.scatter(aer,dxt,s=20, label='State', c='k')\n",
        "    #plt.scatter(vx_o[0],vx_o[1], s=5, label='original', c='b')\n",
        "    plt.scatter(aer[0], dxt[0],s=100, label='Start', c='g')\n",
        "    plt.scatter(aer[-1], dxt[-1], s=100, label='Goal', c='r')\n",
        "    \n",
        "    \"\"\"\"\"\n",
        "    plt.scatter(aer,measurements,s=10, label='State', c='y')\n",
        "    #plt.scatter(vx_o[0],vx_o[1], s=5, label='original', c='b')\n",
        "    plt.scatter(aer[0], measurements[0],s=100, label='Start', c='g')\n",
        "    plt.scatter(aer[-1], measurements[-1], s=100, label='Goal', c='r')\n",
        "    \"\"\"\"\"\n",
        "    plt.xlabel('Velocity at X')\n",
        "    plt.ylabel('Time Step')\n",
        "    plt.title('Velocity')\n",
        "    plt.legend(loc='best')\n",
        "    plt.axis('equal')\n",
        "    \n",
        "plot_dxt()"
      ],
      "execution_count": 546,
      "outputs": [
        {
          "output_type": "display_data",
          "data": {
            "image/png": "[encoded data removed]",
            "text/plain": [
              "<Figure size 1152x1152 with 1 Axes>"
            ]
          },
          "metadata": {
            "tags": []
          }
        }
      ]
    },
    {
      "cell_type": "code",
      "metadata": {
        "id": "bNgwdgSnc_gN",
        "colab_type": "code",
        "outputId": "89b8f484-3804-465f-da8e-8ca302e3d038",
        "colab": {
          "base_uri": "https://localhost:8080/",
          "height": 35
        }
      },
      "source": [
        "vx"
      ],
      "execution_count": 547,
      "outputs": [
        {
          "output_type": "execute_result",
          "data": {
            "text/plain": [
              "20"
            ]
          },
          "metadata": {
            "tags": []
          },
          "execution_count": 547
        }
      ]
    },
    {
      "cell_type": "code",
      "metadata": {
        "id": "unJhuiL_c_gR",
        "colab_type": "code",
        "outputId": "a9f25fff-e1b7-452a-85ac-23548a39aec6",
        "colab": {
          "base_uri": "https://localhost:8080/",
          "height": 1000
        }
      },
      "source": [
        "dxt"
      ],
      "execution_count": 548,
      "outputs": [
        {
          "output_type": "execute_result",
          "data": {
            "text/plain": [
              "[2.125744859148476,\n",
              " 4.050578238609162,\n",
              " 5.689224837008003,\n",
              " 6.9697353136398466,\n",
              " 7.849547550054948,\n",
              " 8.92021089076855,\n",
              " 9.748428951300593,\n",
              " 10.517683362324854,\n",
              " 11.198735131622948,\n",
              " 12.024356931591592,\n",
              " 12.656928841245104,\n",
              " 13.022458852430486,\n",
              " 13.485956970965887,\n",
              " 14.256908017656965,\n",
              " 14.623579725342658,\n",
              " 14.642221234844808,\n",
              " 15.062890430977811,\n",
              " 15.576407052029598,\n",
              " 15.831889245522218,\n",
              " 16.255514105776832,\n",
              " 16.335144823772964,\n",
              " 16.62790079478059,\n",
              " 16.67632268771433,\n",
              " 16.978267057633936,\n",
              " 16.826159298475336,\n",
              " 16.830978937850364,\n",
              " 17.059338903325916,\n",
              " 17.167433589761426,\n",
              " 17.114512990194655,\n",
              " 17.22010305590885,\n",
              " 17.24550291351824,\n",
              " 17.21775714449293,\n",
              " 17.098059626954726,\n",
              " 17.023382598252713,\n",
              " 17.124342498500166,\n",
              " 17.092257797369996,\n",
              " 17.09115776590689,\n",
              " 17.018607399225623,\n",
              " 17.06420222672553,\n",
              " 17.281402024292927,\n",
              " 17.229652794270365,\n",
              " 17.09878990904649,\n",
              " 17.03394384616634,\n",
              " 17.08205544205523,\n",
              " 17.253217064307208,\n",
              " 17.489318304059722,\n",
              " 17.447130662382424,\n",
              " 17.754205575913897,\n",
              " 17.817525431914266,\n",
              " 17.820789671428383,\n",
              " 17.875647295892175,\n",
              " 18.001017923368874,\n",
              " 18.091390001564903,\n",
              " 17.923389501413084,\n",
              " 17.86059143714653,\n",
              " 17.886477271704155,\n",
              " 17.95068698933107,\n",
              " 18.052612516031722,\n",
              " 18.276564779800502,\n",
              " 18.426841764492508,\n",
              " 18.4800549640437,\n",
              " 18.70219638291008,\n",
              " 18.667429188928928,\n",
              " 18.986739257464087,\n",
              " 19.230365688864936,\n",
              " 19.315173310554457,\n",
              " 19.355028415752944,\n",
              " 19.519255371153186,\n",
              " 19.68135174149702,\n",
              " 20.021770581293133,\n",
              " 20.20580711955591,\n",
              " 20.464460574303033,\n",
              " 20.513729380137395,\n",
              " 20.685310266025606,\n",
              " 20.91024451639804,\n",
              " 21.156849279079257,\n",
              " 21.295665167641754,\n",
              " 21.58868344337841,\n",
              " 21.856777271131808,\n",
              " 21.949515559801178,\n",
              " 22.11203637780393,\n",
              " 22.317997123189606,\n",
              " 22.403372538338022,\n",
              " 22.675604518742578,\n",
              " 22.81052773124658,\n",
              " 22.919941952793366,\n",
              " 22.906614997891616,\n",
              " 23.08941621268616,\n",
              " 23.509462407271226,\n",
              " 23.80916756396215,\n",
              " 24.141358822122516,\n",
              " 24.36528516585644,\n",
              " 24.600046760032647,\n",
              " 24.656404925566022,\n",
              " 24.772391628147748,\n",
              " 24.950774495660827,\n",
              " 25.00022735352417,\n",
              " 25.180259757103897,\n",
              " 25.572839401857646,\n",
              " 25.704162211172473,\n",
              " 25.935558281516514,\n",
              " 26.227137808034282,\n",
              " 26.60108860071159,\n",
              " 26.625814479761257,\n",
              " 26.916860322809143,\n",
              " 27.118251602726847,\n",
              " 27.325884495167333,\n",
              " 27.59248079742973,\n",
              " 27.84048767883059,\n",
              " 28.037264235462096,\n",
              " 28.0674592436952,\n",
              " 28.21800068162791,\n",
              " 28.259822366081593,\n",
              " 28.19719785201996,\n",
              " 28.39119524757837,\n",
              " 28.613662673001095,\n",
              " 28.944455487223344,\n",
              " 29.245189667649605,\n",
              " 29.381377448368156,\n",
              " 29.552460691636895,\n",
              " 29.73328618132945,\n",
              " 29.99343735885453,\n",
              " 30.38400137555895,\n",
              " 30.54764657570685,\n",
              " 30.715413285783207,\n",
              " 31.09315454273566,\n",
              " 31.19913623286575,\n",
              " 31.26902054309071,\n",
              " 31.48092961790183,\n",
              " 31.67001403285001,\n",
              " 31.93338038632101,\n",
              " 32.100378027346906,\n",
              " 32.29478214397939,\n",
              " 32.61968014949392,\n",
              " 32.82941792900049,\n",
              " 33.070943077669156,\n",
              " 33.12970320426793,\n",
              " 33.521460586235904,\n",
              " 33.81871022250598,\n",
              " 33.982832551057825,\n",
              " 34.23848782746791,\n",
              " 34.62253240573199,\n",
              " 34.77217325014306,\n",
              " 34.95138007254041,\n",
              " 35.21531279960405,\n",
              " 35.40686023381399,\n",
              " 35.595253619285224,\n",
              " 35.83176625947529,\n",
              " 36.069802883334745,\n",
              " 36.32972240999964,\n",
              " 36.44655542252399,\n",
              " 36.64287889319823,\n",
              " 36.8980095925968,\n",
              " 37.05436905982041,\n",
              " 37.34667524741009,\n",
              " 37.65986960998304,\n",
              " 37.89443610815535,\n",
              " 38.149022139477886,\n",
              " 38.45015301210458,\n",
              " 38.79555454349618,\n",
              " 39.15417767177276,\n",
              " 39.292637184512664,\n",
              " 39.57814463444272,\n",
              " 39.8673909091045,\n",
              " 40.02706268364354,\n",
              " 40.29228255783882,\n",
              " 40.57033727095848,\n",
              " 40.838110303590824,\n",
              " 41.29402599597744,\n",
              " 41.68436176768639,\n",
              " 41.827691805042,\n",
              " 41.871742987238186,\n",
              " 42.13274399861242,\n",
              " 42.36597627735384,\n",
              " 42.53366923586035,\n",
              " 42.883985248073486,\n",
              " 43.00748669160948,\n",
              " 43.26388021113302,\n",
              " 43.62720215987143,\n",
              " 43.838494640515954,\n",
              " 44.10211287807792,\n",
              " 44.34640596142551,\n",
              " 44.70904421406483,\n",
              " 44.97382742380896,\n",
              " 45.34055046240622,\n",
              " 45.645558518639334,\n",
              " 45.95323211257669,\n",
              " 46.124022178729874,\n",
              " 46.24370283767126,\n",
              " 46.678756921421844,\n",
              " 46.76565783906447,\n",
              " 47.19449774919593,\n",
              " 47.39145915740904,\n",
              " 47.62563441769248,\n",
              " 47.75869718488601,\n",
              " 48.08644054747342,\n",
              " 48.15145480739559,\n",
              " 48.541548193669925,\n",
              " 48.86630575858745,\n",
              " 49.03595367816498]"
            ]
          },
          "metadata": {
            "tags": []
          },
          "execution_count": 548
        }
      ]
    }
  ]
}