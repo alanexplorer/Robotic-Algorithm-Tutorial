{
 "cells": [
  {
   "cell_type": "markdown",
   "metadata": {},
   "source": [
    "# FastSLAM\n",
    "\n",
    "FastSLAM também conhecido como Rao-blackwellized Filtro de párticula, usa partícula de filtro para estimar o caminho do robô. Para cada uma dessas partícula o erro individual do map são condicionalmente independentes. Portanto, o problema de mapeamento pode ser fatorado em muitos problemas separados, um para cada característica no mapa. FastSLAM estima essas característica locais pelo EKFs (Extended Kalman Filter), mas usando um EKF de baixa dimensão separado para cada recurso individual.\n",
    "\n",
    "## Fatorando o SLAM Posterior\n",
    "\n",
    "O conceito matemático principal, refere-se que todo o posterior SLAM, pode ser reescrito na forma fatorada.\n",
    "\n",
    "$ p(s^{t}, \\Theta | z^{t}, u^{t}, n^{t}) = p(s^{t} | z^{t}, u^{t}, n^{t}) \\cdot p(\\Theta | s^{t}, z^{t}, u^{t}, n^{t})$\n",
    "\n",
    "$ p(s^{t}, \\Theta | z^{t}, u^{t}, n^{t}) = p(s^{t} | z^{t}, u^{t}, n^{t}) \\cdot \\prod_{i=1}^{N} p(\\theta_n | s^{t}, z^{t}, u^{t}, n^{t})$\n",
    "\n",
    "Onde,\n",
    "\n",
    "N = Número total de landmarkers\n",
    "\n",
    "M = Número total de partículas\n",
    "\n",
    "$s^t$ = lista com as posições\n",
    "\n",
    "$s_{t}$ = Posição do Robô\n",
    "\n",
    "$ \\theta_n$ = Posição do Enesímo landmarker\n",
    "\n",
    "$ \\Theta $= map, lista com todas as posições dos landmarkers\n",
    "\n",
    "$ n_t $ = indice do landmarker\n",
    "\n",
    "$z_{1:t}$ = Sensores\n",
    "\n",
    "$u_{0:t-1}$ = Controle\n",
    "\n",
    "Para cada partícula, a distribuição conjunta da pose e do mapa, dadas as observações e os movimentos, é fatorizada, baseado no Rao-Blackwellization, e reescrito como o produto da probabilidade da pose dadas as observações e os movimentos (path posterior) e a probabilidade do mapa dada a posição e as observações (map posterior).\n",
    "\n",
    "## Pseudocode\n",
    "\n",
    "\n",
    "1.  &nbsp;$EKF(μ_{t−1}, Σ_{t−1}, u_t, z_t):$\n",
    "\n",
    "2.  &nbsp;$  \\bar{\\mu}_t = g(u_t, \\mu_{t-1} )$\n",
    "\n",
    "3.  &nbsp;$ \\bar{\\Sigma}_t = G_t \\Sigma_{t−1} G^T_t + R_t$\n",
    "\n",
    "4.  &nbsp;$  K_t = \\bar{\\Sigma}_t H^T_t (H_t \\bar{\\Sigma_t} H^T_t + Q_t)^{−1}$\n",
    "\n",
    "5.  &nbsp;$ \\mu_t = \\bar{\\mu}_t + K_t(z_t − h(\\bar{\\mu}_t))$\n",
    "\n",
    "6.  &nbsp;$ \\Sigma_t = (I − K_t H_t)\\bar{\\Sigma}_t$\n",
    "\n",
    "7.  &nbsp;$ return (\\mu_t, \\Sigma_t)$\n",
    "\n",
    "\n",
    "### Predição:\n",
    "\n",
    "| Descrição                       | Representação no pseudocódigo                     |\n",
    "|---------------------------------|---------------------------------------------------|\n",
    "| Estimativa do estado previsto   | $\\bar{\\mu} _t = g(u_t, \\mu_{t-1}$            |\n",
    "| Covariância prevista do erro    | $\\bar{\\Sigma}  _t = G_t \\Sigma_{t−1} G^T_t + R_t$ |\n",
    "\n",
    "### Atualização:\n",
    "\n",
    "| Descrição                             | Representação no pseudocódigo                                      |\n",
    "|---------------------------------------|--------------------------------------------------------------------|\n",
    "| Medição residual                      | $z_t − h(\\bar{\\mu}_t)$                                             |\n",
    "| Ganho de Kalman                       | $K_t = \\bar{\\Sigma}_t H^T_t (H_t \\bar{\\Sigma_t} H^T_t + Q_t)^{−1}$ |\n",
    "| Atualização da estimativa de estado   | $\\mu_t = \\bar{\\mu}_t + K_t(z_t − h(\\bar{\\mu}_t))$                  |\n",
    "| Atualização da covariância            | $\\Sigma_t = (I − K_t H_t)\\bar{\\Sigma}_t$                           |\n",
    "\n",
    "## Representação das Variáveis"
   ]
  },
  {
   "cell_type": "markdown",
   "metadata": {},
   "source": [
    "# Explicação do Código"
   ]
  },
  {
   "cell_type": "code",
   "execution_count": 6,
   "metadata": {},
   "outputs": [],
   "source": [
    "import numpy as np"
   ]
  },
  {
   "cell_type": "markdown",
   "metadata": {},
   "source": [
    "Iniciamos o robô na posição $[0, 0, 0]^{-1}$, em seguida iniciamos nosso código definindo algumas variáveis importantes:\n",
    "\n",
    "### Variáveis\n",
    "\n",
    "**last_position** = Representa a ultima posição do robô $\\begin{pmatrix} x_t\\\\ y_t\\\\ \\psi_t \\end{pmatrix}$\n",
    "\n",
    "**total_movement** = Representa o total de moviment absoluto do robô $\\begin{pmatrix} |\\Delta x|\\\\ |\\Delta y|\\\\ |\\Delta \\psi| \\end{pmatrix}$\n",
    "\n",
    "**current_movement** =  Representa o total de moviment do robô $\\begin{pmatrix} \\Delta x\\\\ \\Delta y\\\\ \\Delta \\psi \\end{pmatrix}$\n",
    "\n",
    "**particles** = lista com as particulas\n",
    "\n",
    "**updated_marker** = lista com os valores das tag ArUco (boleano)\n",
    "\n",
    "**aruco_ids** = lista com os valores das tag ArUco (inteiro)\n",
    "\n",
    "**aruco_list** = lista com as ArUcos\n",
    "\n",
    "### Subscriber\n",
    "\n",
    "Dois subscriber serão feitos, um para a Odometria do robô e outro para a biblioteca que detecta o ArUco"
   ]
  },
  {
   "cell_type": "markdown",
   "metadata": {},
   "source": [
    "### Run\n",
    "\n",
    "O loop principal executa o FastSLAM quando a tag 0 do ArUco for visualizada pelo robô, que será nossa posição inicial **e** quando e o robô fizer o primeiro movimento"
   ]
  },
  {
   "cell_type": "code",
   "execution_count": 7,
   "metadata": {},
   "outputs": [
    {
     "name": "stdout",
     "output_type": "stream",
     "text": [
      "2.23606797749979\n"
     ]
    }
   ],
   "source": [
    "KEY_NUMBER = 1024\n",
    "aruco_ids = [0, 1, 2, 3]\n",
    "current_movement = [2, 1, 0]\n",
    "vetor_normalizado = np.linalg.norm(current_movement)\n",
    "\n",
    "if aruco_ids[0] != KEY_NUMBER and vetor_normalizado > 0:\n",
    "    print(vetor_normalizado)"
   ]
  },
  {
   "cell_type": "markdown",
   "metadata": {},
   "source": [
    "Vamos pegar o primeir vetor de movimento do robô e depois resetar esse vetor"
   ]
  },
  {
   "cell_type": "code",
   "execution_count": 9,
   "metadata": {},
   "outputs": [
    {
     "data": {
      "text/plain": [
       "[2, 1, 0]"
      ]
     },
     "execution_count": 9,
     "metadata": {},
     "output_type": "execute_result"
    }
   ],
   "source": [
    "def get_movement():\n",
    "    global current_movement \n",
    "    msg = current_movement\n",
    "    current_movement = np.array([0, 0, 0], dtype='float64').transpose()\n",
    "    return msg\n",
    "\n",
    "get_movement()"
   ]
  },
  {
   "cell_type": "markdown",
   "metadata": {},
   "source": [
    "Para cada partícula é executada a mesma operação:\n",
    "\n",
    "1. Adiciona o movimento do robô na particula\n",
    "2. Percorre a lista aruco_ids:\n",
    "    1. atualiza a lista updated_marker\n",
    "    2. Pega a distância e orientação da tag\n"
   ]
  },
  {
   "cell_type": "markdown",
   "metadata": {},
   "source": [
    "### Distancia e Orientação da Tag\n",
    "\n",
    "![Robot Observing](robot_observing.png)\n",
    "\n",
    "$g(x_t, \\theta_{nt}) = \\begin{bmatrix} r(s_t, \\theta_{nt}) \\\\\\phi(s_t, \\theta_{nt}) \\end{bmatrix}$ = $\\begin{bmatrix} \\sqrt{(\\theta_{nt}, x - s_t,x)^2 + (\\theta_{nt},y - s_t,y)^2} \\\\ tan^{-1}(\\frac{\\theta_{nt},y - s_t,y}{\\theta_{nt},x - s_t,x} - s_t,\\theta) \\end{bmatrix}$"
   ]
  },
  {
   "cell_type": "markdown",
   "metadata": {},
   "source": [
    "# Referências\n",
    "\n",
    "1. THRUN, Sebastian. Probabilistic robotics. **Communications of the ACM**, v. 45, n. 3, p. 52-57, 2002.\n",
    "2. MONTEMERLO, Michael et al. FastSLAM: A factored solution to the simultaneous localization and mapping problem. **Aaai/iaai**, v. 593598, 2002."
   ]
  }
 ],
 "metadata": {
  "kernelspec": {
   "display_name": "Python 3",
   "language": "python",
   "name": "python3"
  },
  "language_info": {
   "codemirror_mode": {
    "name": "ipython",
    "version": 3
   },
   "file_extension": ".py",
   "mimetype": "text/x-python",
   "name": "python",
   "nbconvert_exporter": "python",
   "pygments_lexer": "ipython3",
   "version": "3.5.2"
  }
 },
 "nbformat": 4,
 "nbformat_minor": 2
}
